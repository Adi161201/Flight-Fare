{
  "nbformat": 4,
  "nbformat_minor": 0,
  "metadata": {
    "colab": {
      "name": "Flight Fare Prediction.ipynb",
      "provenance": [],
      "collapsed_sections": []
    },
    "kernelspec": {
      "name": "python3",
      "display_name": "Python 3"
    },
    "language_info": {
      "name": "python"
    },
    "accelerator": "GPU"
  },
  "cells": [
    {
      "cell_type": "markdown",
      "metadata": {
        "id": "lWHLvSZOSBJM"
      },
      "source": [
        "# **Flight Fare Price Prediction**"
      ]
    },
    {
      "cell_type": "markdown",
      "metadata": {
        "id": "XgEI18crSGQA"
      },
      "source": [
        "# Importing Libraries"
      ]
    },
    {
      "cell_type": "code",
      "metadata": {
        "colab": {
          "base_uri": "https://localhost:8080/"
        },
        "id": "dw2UBaJ9RICn",
        "outputId": "1c26f39b-3a74-4502-a676-8380f4e1c9cc"
      },
      "source": [
        "import pandas as pd \n",
        "import numpy as np \n",
        "import matplotlib.pyplot as plt\n",
        "import seaborn as sns \n",
        "import scipy.stats as stat\n",
        "import pylab\n",
        "from scipy.stats import norm\n",
        "\n",
        "pd.options.display.max_columns"
      ],
      "execution_count": 162,
      "outputs": [
        {
          "output_type": "execute_result",
          "data": {
            "text/plain": [
              "0"
            ]
          },
          "metadata": {
            "tags": []
          },
          "execution_count": 162
        }
      ]
    },
    {
      "cell_type": "code",
      "metadata": {
        "colab": {
          "base_uri": "https://localhost:8080/"
        },
        "id": "_8k2jYLaTWcq",
        "outputId": "c2c547f6-72e5-4453-8a10-aa055ce2f99c"
      },
      "source": [
        "from google.colab import drive\n",
        "drive.mount('/content/drive')"
      ],
      "execution_count": 163,
      "outputs": [
        {
          "output_type": "stream",
          "text": [
            "Drive already mounted at /content/drive; to attempt to forcibly remount, call drive.mount(\"/content/drive\", force_remount=True).\n"
          ],
          "name": "stdout"
        }
      ]
    },
    {
      "cell_type": "code",
      "metadata": {
        "colab": {
          "base_uri": "https://localhost:8080/",
          "height": 195
        },
        "id": "viV3SRArTcwO",
        "outputId": "cbb42e57-7089-43f9-e9ef-93a8199c4dbb"
      },
      "source": [
        "df=pd.read_excel('/content/drive/MyDrive/Machine Learning Projects/4. Flight Fare Prediction/Data_Train.xlsx')\n",
        "df.head()"
      ],
      "execution_count": 164,
      "outputs": [
        {
          "output_type": "execute_result",
          "data": {
            "text/html": [
              "<div>\n",
              "<style scoped>\n",
              "    .dataframe tbody tr th:only-of-type {\n",
              "        vertical-align: middle;\n",
              "    }\n",
              "\n",
              "    .dataframe tbody tr th {\n",
              "        vertical-align: top;\n",
              "    }\n",
              "\n",
              "    .dataframe thead th {\n",
              "        text-align: right;\n",
              "    }\n",
              "</style>\n",
              "<table border=\"1\" class=\"dataframe\">\n",
              "  <thead>\n",
              "    <tr style=\"text-align: right;\">\n",
              "      <th></th>\n",
              "      <th>Airline</th>\n",
              "      <th>Date_of_Journey</th>\n",
              "      <th>Source</th>\n",
              "      <th>Destination</th>\n",
              "      <th>Route</th>\n",
              "      <th>Dep_Time</th>\n",
              "      <th>Arrival_Time</th>\n",
              "      <th>Duration</th>\n",
              "      <th>Total_Stops</th>\n",
              "      <th>Additional_Info</th>\n",
              "      <th>Price</th>\n",
              "    </tr>\n",
              "  </thead>\n",
              "  <tbody>\n",
              "    <tr>\n",
              "      <th>0</th>\n",
              "      <td>IndiGo</td>\n",
              "      <td>24/03/2019</td>\n",
              "      <td>Banglore</td>\n",
              "      <td>New Delhi</td>\n",
              "      <td>BLR → DEL</td>\n",
              "      <td>22:20</td>\n",
              "      <td>01:10 22 Mar</td>\n",
              "      <td>2h 50m</td>\n",
              "      <td>non-stop</td>\n",
              "      <td>No info</td>\n",
              "      <td>3897</td>\n",
              "    </tr>\n",
              "    <tr>\n",
              "      <th>1</th>\n",
              "      <td>Air India</td>\n",
              "      <td>1/05/2019</td>\n",
              "      <td>Kolkata</td>\n",
              "      <td>Banglore</td>\n",
              "      <td>CCU → IXR → BBI → BLR</td>\n",
              "      <td>05:50</td>\n",
              "      <td>13:15</td>\n",
              "      <td>7h 25m</td>\n",
              "      <td>2 stops</td>\n",
              "      <td>No info</td>\n",
              "      <td>7662</td>\n",
              "    </tr>\n",
              "    <tr>\n",
              "      <th>2</th>\n",
              "      <td>Jet Airways</td>\n",
              "      <td>9/06/2019</td>\n",
              "      <td>Delhi</td>\n",
              "      <td>Cochin</td>\n",
              "      <td>DEL → LKO → BOM → COK</td>\n",
              "      <td>09:25</td>\n",
              "      <td>04:25 10 Jun</td>\n",
              "      <td>19h</td>\n",
              "      <td>2 stops</td>\n",
              "      <td>No info</td>\n",
              "      <td>13882</td>\n",
              "    </tr>\n",
              "    <tr>\n",
              "      <th>3</th>\n",
              "      <td>IndiGo</td>\n",
              "      <td>12/05/2019</td>\n",
              "      <td>Kolkata</td>\n",
              "      <td>Banglore</td>\n",
              "      <td>CCU → NAG → BLR</td>\n",
              "      <td>18:05</td>\n",
              "      <td>23:30</td>\n",
              "      <td>5h 25m</td>\n",
              "      <td>1 stop</td>\n",
              "      <td>No info</td>\n",
              "      <td>6218</td>\n",
              "    </tr>\n",
              "    <tr>\n",
              "      <th>4</th>\n",
              "      <td>IndiGo</td>\n",
              "      <td>01/03/2019</td>\n",
              "      <td>Banglore</td>\n",
              "      <td>New Delhi</td>\n",
              "      <td>BLR → NAG → DEL</td>\n",
              "      <td>16:50</td>\n",
              "      <td>21:35</td>\n",
              "      <td>4h 45m</td>\n",
              "      <td>1 stop</td>\n",
              "      <td>No info</td>\n",
              "      <td>13302</td>\n",
              "    </tr>\n",
              "  </tbody>\n",
              "</table>\n",
              "</div>"
            ],
            "text/plain": [
              "       Airline Date_of_Journey    Source  ... Total_Stops Additional_Info  Price\n",
              "0       IndiGo      24/03/2019  Banglore  ...    non-stop         No info   3897\n",
              "1    Air India       1/05/2019   Kolkata  ...     2 stops         No info   7662\n",
              "2  Jet Airways       9/06/2019     Delhi  ...     2 stops         No info  13882\n",
              "3       IndiGo      12/05/2019   Kolkata  ...      1 stop         No info   6218\n",
              "4       IndiGo      01/03/2019  Banglore  ...      1 stop         No info  13302\n",
              "\n",
              "[5 rows x 11 columns]"
            ]
          },
          "metadata": {
            "tags": []
          },
          "execution_count": 164
        }
      ]
    },
    {
      "cell_type": "code",
      "metadata": {
        "colab": {
          "base_uri": "https://localhost:8080/"
        },
        "id": "AIFukzGTUpYK",
        "outputId": "4c7fbdb7-bdcc-450e-dc6e-851a3ba00468"
      },
      "source": [
        "df.shape"
      ],
      "execution_count": 165,
      "outputs": [
        {
          "output_type": "execute_result",
          "data": {
            "text/plain": [
              "(10683, 11)"
            ]
          },
          "metadata": {
            "tags": []
          },
          "execution_count": 165
        }
      ]
    },
    {
      "cell_type": "code",
      "metadata": {
        "colab": {
          "base_uri": "https://localhost:8080/"
        },
        "id": "cIGr7MmKTtkG",
        "outputId": "d5efac45-9dde-4d2a-b3ae-fd2c70f29746"
      },
      "source": [
        "df.info()"
      ],
      "execution_count": 166,
      "outputs": [
        {
          "output_type": "stream",
          "text": [
            "<class 'pandas.core.frame.DataFrame'>\n",
            "RangeIndex: 10683 entries, 0 to 10682\n",
            "Data columns (total 11 columns):\n",
            " #   Column           Non-Null Count  Dtype \n",
            "---  ------           --------------  ----- \n",
            " 0   Airline          10683 non-null  object\n",
            " 1   Date_of_Journey  10683 non-null  object\n",
            " 2   Source           10683 non-null  object\n",
            " 3   Destination      10683 non-null  object\n",
            " 4   Route            10682 non-null  object\n",
            " 5   Dep_Time         10683 non-null  object\n",
            " 6   Arrival_Time     10683 non-null  object\n",
            " 7   Duration         10683 non-null  object\n",
            " 8   Total_Stops      10682 non-null  object\n",
            " 9   Additional_Info  10683 non-null  object\n",
            " 10  Price            10683 non-null  int64 \n",
            "dtypes: int64(1), object(10)\n",
            "memory usage: 918.2+ KB\n"
          ],
          "name": "stdout"
        }
      ]
    },
    {
      "cell_type": "code",
      "metadata": {
        "colab": {
          "base_uri": "https://localhost:8080/",
          "height": 284
        },
        "id": "63lBqZpjUM6v",
        "outputId": "d719d07d-465b-4a70-9af7-db09861879ba"
      },
      "source": [
        "df.describe()"
      ],
      "execution_count": 167,
      "outputs": [
        {
          "output_type": "execute_result",
          "data": {
            "text/html": [
              "<div>\n",
              "<style scoped>\n",
              "    .dataframe tbody tr th:only-of-type {\n",
              "        vertical-align: middle;\n",
              "    }\n",
              "\n",
              "    .dataframe tbody tr th {\n",
              "        vertical-align: top;\n",
              "    }\n",
              "\n",
              "    .dataframe thead th {\n",
              "        text-align: right;\n",
              "    }\n",
              "</style>\n",
              "<table border=\"1\" class=\"dataframe\">\n",
              "  <thead>\n",
              "    <tr style=\"text-align: right;\">\n",
              "      <th></th>\n",
              "      <th>Price</th>\n",
              "    </tr>\n",
              "  </thead>\n",
              "  <tbody>\n",
              "    <tr>\n",
              "      <th>count</th>\n",
              "      <td>10683.00</td>\n",
              "    </tr>\n",
              "    <tr>\n",
              "      <th>mean</th>\n",
              "      <td>9087.06</td>\n",
              "    </tr>\n",
              "    <tr>\n",
              "      <th>std</th>\n",
              "      <td>4611.36</td>\n",
              "    </tr>\n",
              "    <tr>\n",
              "      <th>min</th>\n",
              "      <td>1759.00</td>\n",
              "    </tr>\n",
              "    <tr>\n",
              "      <th>25%</th>\n",
              "      <td>5277.00</td>\n",
              "    </tr>\n",
              "    <tr>\n",
              "      <th>50%</th>\n",
              "      <td>8372.00</td>\n",
              "    </tr>\n",
              "    <tr>\n",
              "      <th>75%</th>\n",
              "      <td>12373.00</td>\n",
              "    </tr>\n",
              "    <tr>\n",
              "      <th>max</th>\n",
              "      <td>79512.00</td>\n",
              "    </tr>\n",
              "  </tbody>\n",
              "</table>\n",
              "</div>"
            ],
            "text/plain": [
              "         Price\n",
              "count 10683.00\n",
              "mean   9087.06\n",
              "std    4611.36\n",
              "min    1759.00\n",
              "25%    5277.00\n",
              "50%    8372.00\n",
              "75%   12373.00\n",
              "max   79512.00"
            ]
          },
          "metadata": {
            "tags": []
          },
          "execution_count": 167
        }
      ]
    },
    {
      "cell_type": "markdown",
      "metadata": {
        "id": "Z2CUyRFUURcZ"
      },
      "source": [
        "Checking NULL Values"
      ]
    },
    {
      "cell_type": "code",
      "metadata": {
        "colab": {
          "base_uri": "https://localhost:8080/"
        },
        "id": "OuE5DpdsUPaD",
        "outputId": "a704e2ef-8d9e-4f55-e66d-891435785ffa"
      },
      "source": [
        "df.isnull().sum()"
      ],
      "execution_count": 168,
      "outputs": [
        {
          "output_type": "execute_result",
          "data": {
            "text/plain": [
              "Airline            0\n",
              "Date_of_Journey    0\n",
              "Source             0\n",
              "Destination        0\n",
              "Route              1\n",
              "Dep_Time           0\n",
              "Arrival_Time       0\n",
              "Duration           0\n",
              "Total_Stops        1\n",
              "Additional_Info    0\n",
              "Price              0\n",
              "dtype: int64"
            ]
          },
          "metadata": {
            "tags": []
          },
          "execution_count": 168
        }
      ]
    },
    {
      "cell_type": "markdown",
      "metadata": {
        "id": "BmOr-o9LUfX0"
      },
      "source": [
        "We have just 2 missing values , so we can drop them easily."
      ]
    },
    {
      "cell_type": "code",
      "metadata": {
        "id": "pUFsb5PMUUMr"
      },
      "source": [
        "df.dropna(inplace=True)"
      ],
      "execution_count": 169,
      "outputs": []
    },
    {
      "cell_type": "markdown",
      "metadata": {
        "id": "lFJ7_7EwVYJP"
      },
      "source": [
        "Now its time to convert some columns into date-time."
      ]
    },
    {
      "cell_type": "code",
      "metadata": {
        "id": "vsBT3EICVSLx"
      },
      "source": [
        "def convert_datetime(col):\n",
        "  df[col]=pd.to_datetime(df[col])"
      ],
      "execution_count": 170,
      "outputs": []
    },
    {
      "cell_type": "code",
      "metadata": {
        "colab": {
          "base_uri": "https://localhost:8080/"
        },
        "id": "lh23W2niVoQR",
        "outputId": "3e7ddfad-a56e-484b-f396-366f502c9124"
      },
      "source": [
        "df.columns"
      ],
      "execution_count": 171,
      "outputs": [
        {
          "output_type": "execute_result",
          "data": {
            "text/plain": [
              "Index(['Airline', 'Date_of_Journey', 'Source', 'Destination', 'Route',\n",
              "       'Dep_Time', 'Arrival_Time', 'Duration', 'Total_Stops',\n",
              "       'Additional_Info', 'Price'],\n",
              "      dtype='object')"
            ]
          },
          "metadata": {
            "tags": []
          },
          "execution_count": 171
        }
      ]
    },
    {
      "cell_type": "code",
      "metadata": {
        "id": "DCOmL3hNVpbz"
      },
      "source": [
        "for x in ['Date_of_Journey','Dep_Time', 'Arrival_Time']:\n",
        "    convert_datetime(x)"
      ],
      "execution_count": 172,
      "outputs": []
    },
    {
      "cell_type": "code",
      "metadata": {
        "colab": {
          "base_uri": "https://localhost:8080/"
        },
        "id": "cyianSK6V7Os",
        "outputId": "8f306f31-8ede-40a6-94d8-a65dd36fc610"
      },
      "source": [
        "df.dtypes"
      ],
      "execution_count": 173,
      "outputs": [
        {
          "output_type": "execute_result",
          "data": {
            "text/plain": [
              "Airline                    object\n",
              "Date_of_Journey    datetime64[ns]\n",
              "Source                     object\n",
              "Destination                object\n",
              "Route                      object\n",
              "Dep_Time           datetime64[ns]\n",
              "Arrival_Time       datetime64[ns]\n",
              "Duration                   object\n",
              "Total_Stops                object\n",
              "Additional_Info            object\n",
              "Price                       int64\n",
              "dtype: object"
            ]
          },
          "metadata": {
            "tags": []
          },
          "execution_count": 173
        }
      ]
    },
    {
      "cell_type": "code",
      "metadata": {
        "colab": {
          "base_uri": "https://localhost:8080/",
          "height": 195
        },
        "id": "Mv-u_TFWWRrp",
        "outputId": "1351b8e7-ccb2-49a1-cda4-70bbc07a2a35"
      },
      "source": [
        "df.head()"
      ],
      "execution_count": 174,
      "outputs": [
        {
          "output_type": "execute_result",
          "data": {
            "text/html": [
              "<div>\n",
              "<style scoped>\n",
              "    .dataframe tbody tr th:only-of-type {\n",
              "        vertical-align: middle;\n",
              "    }\n",
              "\n",
              "    .dataframe tbody tr th {\n",
              "        vertical-align: top;\n",
              "    }\n",
              "\n",
              "    .dataframe thead th {\n",
              "        text-align: right;\n",
              "    }\n",
              "</style>\n",
              "<table border=\"1\" class=\"dataframe\">\n",
              "  <thead>\n",
              "    <tr style=\"text-align: right;\">\n",
              "      <th></th>\n",
              "      <th>Airline</th>\n",
              "      <th>Date_of_Journey</th>\n",
              "      <th>Source</th>\n",
              "      <th>Destination</th>\n",
              "      <th>Route</th>\n",
              "      <th>Dep_Time</th>\n",
              "      <th>Arrival_Time</th>\n",
              "      <th>Duration</th>\n",
              "      <th>Total_Stops</th>\n",
              "      <th>Additional_Info</th>\n",
              "      <th>Price</th>\n",
              "    </tr>\n",
              "  </thead>\n",
              "  <tbody>\n",
              "    <tr>\n",
              "      <th>0</th>\n",
              "      <td>IndiGo</td>\n",
              "      <td>2019-03-24</td>\n",
              "      <td>Banglore</td>\n",
              "      <td>New Delhi</td>\n",
              "      <td>BLR → DEL</td>\n",
              "      <td>2021-04-16 22:20:00</td>\n",
              "      <td>2021-03-22 01:10:00</td>\n",
              "      <td>2h 50m</td>\n",
              "      <td>non-stop</td>\n",
              "      <td>No info</td>\n",
              "      <td>3897</td>\n",
              "    </tr>\n",
              "    <tr>\n",
              "      <th>1</th>\n",
              "      <td>Air India</td>\n",
              "      <td>2019-01-05</td>\n",
              "      <td>Kolkata</td>\n",
              "      <td>Banglore</td>\n",
              "      <td>CCU → IXR → BBI → BLR</td>\n",
              "      <td>2021-04-16 05:50:00</td>\n",
              "      <td>2021-04-16 13:15:00</td>\n",
              "      <td>7h 25m</td>\n",
              "      <td>2 stops</td>\n",
              "      <td>No info</td>\n",
              "      <td>7662</td>\n",
              "    </tr>\n",
              "    <tr>\n",
              "      <th>2</th>\n",
              "      <td>Jet Airways</td>\n",
              "      <td>2019-09-06</td>\n",
              "      <td>Delhi</td>\n",
              "      <td>Cochin</td>\n",
              "      <td>DEL → LKO → BOM → COK</td>\n",
              "      <td>2021-04-16 09:25:00</td>\n",
              "      <td>2021-06-10 04:25:00</td>\n",
              "      <td>19h</td>\n",
              "      <td>2 stops</td>\n",
              "      <td>No info</td>\n",
              "      <td>13882</td>\n",
              "    </tr>\n",
              "    <tr>\n",
              "      <th>3</th>\n",
              "      <td>IndiGo</td>\n",
              "      <td>2019-12-05</td>\n",
              "      <td>Kolkata</td>\n",
              "      <td>Banglore</td>\n",
              "      <td>CCU → NAG → BLR</td>\n",
              "      <td>2021-04-16 18:05:00</td>\n",
              "      <td>2021-04-16 23:30:00</td>\n",
              "      <td>5h 25m</td>\n",
              "      <td>1 stop</td>\n",
              "      <td>No info</td>\n",
              "      <td>6218</td>\n",
              "    </tr>\n",
              "    <tr>\n",
              "      <th>4</th>\n",
              "      <td>IndiGo</td>\n",
              "      <td>2019-01-03</td>\n",
              "      <td>Banglore</td>\n",
              "      <td>New Delhi</td>\n",
              "      <td>BLR → NAG → DEL</td>\n",
              "      <td>2021-04-16 16:50:00</td>\n",
              "      <td>2021-04-16 21:35:00</td>\n",
              "      <td>4h 45m</td>\n",
              "      <td>1 stop</td>\n",
              "      <td>No info</td>\n",
              "      <td>13302</td>\n",
              "    </tr>\n",
              "  </tbody>\n",
              "</table>\n",
              "</div>"
            ],
            "text/plain": [
              "       Airline Date_of_Journey    Source  ... Total_Stops Additional_Info  Price\n",
              "0       IndiGo      2019-03-24  Banglore  ...    non-stop         No info   3897\n",
              "1    Air India      2019-01-05   Kolkata  ...     2 stops         No info   7662\n",
              "2  Jet Airways      2019-09-06     Delhi  ...     2 stops         No info  13882\n",
              "3       IndiGo      2019-12-05   Kolkata  ...      1 stop         No info   6218\n",
              "4       IndiGo      2019-01-03  Banglore  ...      1 stop         No info  13302\n",
              "\n",
              "[5 rows x 11 columns]"
            ]
          },
          "metadata": {
            "tags": []
          },
          "execution_count": 174
        }
      ]
    },
    {
      "cell_type": "code",
      "metadata": {
        "id": "wODdNOehWvKr"
      },
      "source": [
        "df['journey_day']=df['Date_of_Journey'].dt.day\n",
        "df['journey_month']=df['Date_of_Journey'].dt.month"
      ],
      "execution_count": 175,
      "outputs": []
    },
    {
      "cell_type": "code",
      "metadata": {
        "colab": {
          "base_uri": "https://localhost:8080/",
          "height": 279
        },
        "id": "4P11PpRjXvfs",
        "outputId": "c5123f10-7d9f-452a-a2fc-d0b79957335e"
      },
      "source": [
        "df.head()"
      ],
      "execution_count": 176,
      "outputs": [
        {
          "output_type": "execute_result",
          "data": {
            "text/html": [
              "<div>\n",
              "<style scoped>\n",
              "    .dataframe tbody tr th:only-of-type {\n",
              "        vertical-align: middle;\n",
              "    }\n",
              "\n",
              "    .dataframe tbody tr th {\n",
              "        vertical-align: top;\n",
              "    }\n",
              "\n",
              "    .dataframe thead th {\n",
              "        text-align: right;\n",
              "    }\n",
              "</style>\n",
              "<table border=\"1\" class=\"dataframe\">\n",
              "  <thead>\n",
              "    <tr style=\"text-align: right;\">\n",
              "      <th></th>\n",
              "      <th>Airline</th>\n",
              "      <th>Date_of_Journey</th>\n",
              "      <th>Source</th>\n",
              "      <th>Destination</th>\n",
              "      <th>Route</th>\n",
              "      <th>Dep_Time</th>\n",
              "      <th>Arrival_Time</th>\n",
              "      <th>Duration</th>\n",
              "      <th>Total_Stops</th>\n",
              "      <th>Additional_Info</th>\n",
              "      <th>Price</th>\n",
              "      <th>journey_day</th>\n",
              "      <th>journey_month</th>\n",
              "    </tr>\n",
              "  </thead>\n",
              "  <tbody>\n",
              "    <tr>\n",
              "      <th>0</th>\n",
              "      <td>IndiGo</td>\n",
              "      <td>2019-03-24</td>\n",
              "      <td>Banglore</td>\n",
              "      <td>New Delhi</td>\n",
              "      <td>BLR → DEL</td>\n",
              "      <td>2021-04-16 22:20:00</td>\n",
              "      <td>2021-03-22 01:10:00</td>\n",
              "      <td>2h 50m</td>\n",
              "      <td>non-stop</td>\n",
              "      <td>No info</td>\n",
              "      <td>3897</td>\n",
              "      <td>24</td>\n",
              "      <td>3</td>\n",
              "    </tr>\n",
              "    <tr>\n",
              "      <th>1</th>\n",
              "      <td>Air India</td>\n",
              "      <td>2019-01-05</td>\n",
              "      <td>Kolkata</td>\n",
              "      <td>Banglore</td>\n",
              "      <td>CCU → IXR → BBI → BLR</td>\n",
              "      <td>2021-04-16 05:50:00</td>\n",
              "      <td>2021-04-16 13:15:00</td>\n",
              "      <td>7h 25m</td>\n",
              "      <td>2 stops</td>\n",
              "      <td>No info</td>\n",
              "      <td>7662</td>\n",
              "      <td>5</td>\n",
              "      <td>1</td>\n",
              "    </tr>\n",
              "    <tr>\n",
              "      <th>2</th>\n",
              "      <td>Jet Airways</td>\n",
              "      <td>2019-09-06</td>\n",
              "      <td>Delhi</td>\n",
              "      <td>Cochin</td>\n",
              "      <td>DEL → LKO → BOM → COK</td>\n",
              "      <td>2021-04-16 09:25:00</td>\n",
              "      <td>2021-06-10 04:25:00</td>\n",
              "      <td>19h</td>\n",
              "      <td>2 stops</td>\n",
              "      <td>No info</td>\n",
              "      <td>13882</td>\n",
              "      <td>6</td>\n",
              "      <td>9</td>\n",
              "    </tr>\n",
              "    <tr>\n",
              "      <th>3</th>\n",
              "      <td>IndiGo</td>\n",
              "      <td>2019-12-05</td>\n",
              "      <td>Kolkata</td>\n",
              "      <td>Banglore</td>\n",
              "      <td>CCU → NAG → BLR</td>\n",
              "      <td>2021-04-16 18:05:00</td>\n",
              "      <td>2021-04-16 23:30:00</td>\n",
              "      <td>5h 25m</td>\n",
              "      <td>1 stop</td>\n",
              "      <td>No info</td>\n",
              "      <td>6218</td>\n",
              "      <td>5</td>\n",
              "      <td>12</td>\n",
              "    </tr>\n",
              "    <tr>\n",
              "      <th>4</th>\n",
              "      <td>IndiGo</td>\n",
              "      <td>2019-01-03</td>\n",
              "      <td>Banglore</td>\n",
              "      <td>New Delhi</td>\n",
              "      <td>BLR → NAG → DEL</td>\n",
              "      <td>2021-04-16 16:50:00</td>\n",
              "      <td>2021-04-16 21:35:00</td>\n",
              "      <td>4h 45m</td>\n",
              "      <td>1 stop</td>\n",
              "      <td>No info</td>\n",
              "      <td>13302</td>\n",
              "      <td>3</td>\n",
              "      <td>1</td>\n",
              "    </tr>\n",
              "  </tbody>\n",
              "</table>\n",
              "</div>"
            ],
            "text/plain": [
              "       Airline Date_of_Journey    Source  ...  Price journey_day journey_month\n",
              "0       IndiGo      2019-03-24  Banglore  ...   3897          24             3\n",
              "1    Air India      2019-01-05   Kolkata  ...   7662           5             1\n",
              "2  Jet Airways      2019-09-06     Delhi  ...  13882           6             9\n",
              "3       IndiGo      2019-12-05   Kolkata  ...   6218           5            12\n",
              "4       IndiGo      2019-01-03  Banglore  ...  13302           3             1\n",
              "\n",
              "[5 rows x 13 columns]"
            ]
          },
          "metadata": {
            "tags": []
          },
          "execution_count": 176
        }
      ]
    },
    {
      "cell_type": "markdown",
      "metadata": {
        "id": "5WYOA4llYuNT"
      },
      "source": [
        "Since we have extracted all info from Dat of Journey column, it would be better to drop it."
      ]
    },
    {
      "cell_type": "code",
      "metadata": {
        "id": "V11z8pKRX__J"
      },
      "source": [
        "df.drop('Date_of_Journey',axis=1,inplace=True)"
      ],
      "execution_count": 177,
      "outputs": []
    },
    {
      "cell_type": "code",
      "metadata": {
        "colab": {
          "base_uri": "https://localhost:8080/",
          "height": 195
        },
        "id": "P4M9-lpiY7lS",
        "outputId": "7f1c95be-fce1-4c85-c1d0-700074d1e812"
      },
      "source": [
        "df.head()"
      ],
      "execution_count": 178,
      "outputs": [
        {
          "output_type": "execute_result",
          "data": {
            "text/html": [
              "<div>\n",
              "<style scoped>\n",
              "    .dataframe tbody tr th:only-of-type {\n",
              "        vertical-align: middle;\n",
              "    }\n",
              "\n",
              "    .dataframe tbody tr th {\n",
              "        vertical-align: top;\n",
              "    }\n",
              "\n",
              "    .dataframe thead th {\n",
              "        text-align: right;\n",
              "    }\n",
              "</style>\n",
              "<table border=\"1\" class=\"dataframe\">\n",
              "  <thead>\n",
              "    <tr style=\"text-align: right;\">\n",
              "      <th></th>\n",
              "      <th>Airline</th>\n",
              "      <th>Source</th>\n",
              "      <th>Destination</th>\n",
              "      <th>Route</th>\n",
              "      <th>Dep_Time</th>\n",
              "      <th>Arrival_Time</th>\n",
              "      <th>Duration</th>\n",
              "      <th>Total_Stops</th>\n",
              "      <th>Additional_Info</th>\n",
              "      <th>Price</th>\n",
              "      <th>journey_day</th>\n",
              "      <th>journey_month</th>\n",
              "    </tr>\n",
              "  </thead>\n",
              "  <tbody>\n",
              "    <tr>\n",
              "      <th>0</th>\n",
              "      <td>IndiGo</td>\n",
              "      <td>Banglore</td>\n",
              "      <td>New Delhi</td>\n",
              "      <td>BLR → DEL</td>\n",
              "      <td>2021-04-16 22:20:00</td>\n",
              "      <td>2021-03-22 01:10:00</td>\n",
              "      <td>2h 50m</td>\n",
              "      <td>non-stop</td>\n",
              "      <td>No info</td>\n",
              "      <td>3897</td>\n",
              "      <td>24</td>\n",
              "      <td>3</td>\n",
              "    </tr>\n",
              "    <tr>\n",
              "      <th>1</th>\n",
              "      <td>Air India</td>\n",
              "      <td>Kolkata</td>\n",
              "      <td>Banglore</td>\n",
              "      <td>CCU → IXR → BBI → BLR</td>\n",
              "      <td>2021-04-16 05:50:00</td>\n",
              "      <td>2021-04-16 13:15:00</td>\n",
              "      <td>7h 25m</td>\n",
              "      <td>2 stops</td>\n",
              "      <td>No info</td>\n",
              "      <td>7662</td>\n",
              "      <td>5</td>\n",
              "      <td>1</td>\n",
              "    </tr>\n",
              "    <tr>\n",
              "      <th>2</th>\n",
              "      <td>Jet Airways</td>\n",
              "      <td>Delhi</td>\n",
              "      <td>Cochin</td>\n",
              "      <td>DEL → LKO → BOM → COK</td>\n",
              "      <td>2021-04-16 09:25:00</td>\n",
              "      <td>2021-06-10 04:25:00</td>\n",
              "      <td>19h</td>\n",
              "      <td>2 stops</td>\n",
              "      <td>No info</td>\n",
              "      <td>13882</td>\n",
              "      <td>6</td>\n",
              "      <td>9</td>\n",
              "    </tr>\n",
              "    <tr>\n",
              "      <th>3</th>\n",
              "      <td>IndiGo</td>\n",
              "      <td>Kolkata</td>\n",
              "      <td>Banglore</td>\n",
              "      <td>CCU → NAG → BLR</td>\n",
              "      <td>2021-04-16 18:05:00</td>\n",
              "      <td>2021-04-16 23:30:00</td>\n",
              "      <td>5h 25m</td>\n",
              "      <td>1 stop</td>\n",
              "      <td>No info</td>\n",
              "      <td>6218</td>\n",
              "      <td>5</td>\n",
              "      <td>12</td>\n",
              "    </tr>\n",
              "    <tr>\n",
              "      <th>4</th>\n",
              "      <td>IndiGo</td>\n",
              "      <td>Banglore</td>\n",
              "      <td>New Delhi</td>\n",
              "      <td>BLR → NAG → DEL</td>\n",
              "      <td>2021-04-16 16:50:00</td>\n",
              "      <td>2021-04-16 21:35:00</td>\n",
              "      <td>4h 45m</td>\n",
              "      <td>1 stop</td>\n",
              "      <td>No info</td>\n",
              "      <td>13302</td>\n",
              "      <td>3</td>\n",
              "      <td>1</td>\n",
              "    </tr>\n",
              "  </tbody>\n",
              "</table>\n",
              "</div>"
            ],
            "text/plain": [
              "       Airline    Source Destination  ...  Price journey_day journey_month\n",
              "0       IndiGo  Banglore   New Delhi  ...   3897          24             3\n",
              "1    Air India   Kolkata    Banglore  ...   7662           5             1\n",
              "2  Jet Airways     Delhi      Cochin  ...  13882           6             9\n",
              "3       IndiGo   Kolkata    Banglore  ...   6218           5            12\n",
              "4       IndiGo  Banglore   New Delhi  ...  13302           3             1\n",
              "\n",
              "[5 rows x 12 columns]"
            ]
          },
          "metadata": {
            "tags": []
          },
          "execution_count": 178
        }
      ]
    },
    {
      "cell_type": "code",
      "metadata": {
        "id": "D5yG94YwY9CU"
      },
      "source": [
        "def extract_hour(data,col):\n",
        "    data[col+'_hour']=data[col].dt.hour\n",
        "def extract_min(data,col):\n",
        "    data[col+'_min']=data[col].dt.minute\n",
        "def drop_col(data,col):\n",
        "    data.drop(col,axis=1,inplace=True)"
      ],
      "execution_count": 179,
      "outputs": []
    },
    {
      "cell_type": "code",
      "metadata": {
        "id": "b9QPwtn7aWDi"
      },
      "source": [
        "df1=df.copy()"
      ],
      "execution_count": 180,
      "outputs": []
    },
    {
      "cell_type": "code",
      "metadata": {
        "id": "kLz6V78WaJHO"
      },
      "source": [
        "extract_hour(df1,'Dep_Time')\n",
        "extract_min(df1,'Dep_Time')\n",
        "drop_col(df1,'Dep_Time')"
      ],
      "execution_count": 181,
      "outputs": []
    },
    {
      "cell_type": "code",
      "metadata": {
        "colab": {
          "base_uri": "https://localhost:8080/",
          "height": 195
        },
        "id": "Aki6CgVbakNx",
        "outputId": "29bd1b1e-1992-4559-f995-62fcabcd38bc"
      },
      "source": [
        "df1.head()"
      ],
      "execution_count": 182,
      "outputs": [
        {
          "output_type": "execute_result",
          "data": {
            "text/html": [
              "<div>\n",
              "<style scoped>\n",
              "    .dataframe tbody tr th:only-of-type {\n",
              "        vertical-align: middle;\n",
              "    }\n",
              "\n",
              "    .dataframe tbody tr th {\n",
              "        vertical-align: top;\n",
              "    }\n",
              "\n",
              "    .dataframe thead th {\n",
              "        text-align: right;\n",
              "    }\n",
              "</style>\n",
              "<table border=\"1\" class=\"dataframe\">\n",
              "  <thead>\n",
              "    <tr style=\"text-align: right;\">\n",
              "      <th></th>\n",
              "      <th>Airline</th>\n",
              "      <th>Source</th>\n",
              "      <th>Destination</th>\n",
              "      <th>Route</th>\n",
              "      <th>Arrival_Time</th>\n",
              "      <th>Duration</th>\n",
              "      <th>Total_Stops</th>\n",
              "      <th>Additional_Info</th>\n",
              "      <th>Price</th>\n",
              "      <th>journey_day</th>\n",
              "      <th>journey_month</th>\n",
              "      <th>Dep_Time_hour</th>\n",
              "      <th>Dep_Time_min</th>\n",
              "    </tr>\n",
              "  </thead>\n",
              "  <tbody>\n",
              "    <tr>\n",
              "      <th>0</th>\n",
              "      <td>IndiGo</td>\n",
              "      <td>Banglore</td>\n",
              "      <td>New Delhi</td>\n",
              "      <td>BLR → DEL</td>\n",
              "      <td>2021-03-22 01:10:00</td>\n",
              "      <td>2h 50m</td>\n",
              "      <td>non-stop</td>\n",
              "      <td>No info</td>\n",
              "      <td>3897</td>\n",
              "      <td>24</td>\n",
              "      <td>3</td>\n",
              "      <td>22</td>\n",
              "      <td>20</td>\n",
              "    </tr>\n",
              "    <tr>\n",
              "      <th>1</th>\n",
              "      <td>Air India</td>\n",
              "      <td>Kolkata</td>\n",
              "      <td>Banglore</td>\n",
              "      <td>CCU → IXR → BBI → BLR</td>\n",
              "      <td>2021-04-16 13:15:00</td>\n",
              "      <td>7h 25m</td>\n",
              "      <td>2 stops</td>\n",
              "      <td>No info</td>\n",
              "      <td>7662</td>\n",
              "      <td>5</td>\n",
              "      <td>1</td>\n",
              "      <td>5</td>\n",
              "      <td>50</td>\n",
              "    </tr>\n",
              "    <tr>\n",
              "      <th>2</th>\n",
              "      <td>Jet Airways</td>\n",
              "      <td>Delhi</td>\n",
              "      <td>Cochin</td>\n",
              "      <td>DEL → LKO → BOM → COK</td>\n",
              "      <td>2021-06-10 04:25:00</td>\n",
              "      <td>19h</td>\n",
              "      <td>2 stops</td>\n",
              "      <td>No info</td>\n",
              "      <td>13882</td>\n",
              "      <td>6</td>\n",
              "      <td>9</td>\n",
              "      <td>9</td>\n",
              "      <td>25</td>\n",
              "    </tr>\n",
              "    <tr>\n",
              "      <th>3</th>\n",
              "      <td>IndiGo</td>\n",
              "      <td>Kolkata</td>\n",
              "      <td>Banglore</td>\n",
              "      <td>CCU → NAG → BLR</td>\n",
              "      <td>2021-04-16 23:30:00</td>\n",
              "      <td>5h 25m</td>\n",
              "      <td>1 stop</td>\n",
              "      <td>No info</td>\n",
              "      <td>6218</td>\n",
              "      <td>5</td>\n",
              "      <td>12</td>\n",
              "      <td>18</td>\n",
              "      <td>5</td>\n",
              "    </tr>\n",
              "    <tr>\n",
              "      <th>4</th>\n",
              "      <td>IndiGo</td>\n",
              "      <td>Banglore</td>\n",
              "      <td>New Delhi</td>\n",
              "      <td>BLR → NAG → DEL</td>\n",
              "      <td>2021-04-16 21:35:00</td>\n",
              "      <td>4h 45m</td>\n",
              "      <td>1 stop</td>\n",
              "      <td>No info</td>\n",
              "      <td>13302</td>\n",
              "      <td>3</td>\n",
              "      <td>1</td>\n",
              "      <td>16</td>\n",
              "      <td>50</td>\n",
              "    </tr>\n",
              "  </tbody>\n",
              "</table>\n",
              "</div>"
            ],
            "text/plain": [
              "       Airline    Source  ... Dep_Time_hour Dep_Time_min\n",
              "0       IndiGo  Banglore  ...            22           20\n",
              "1    Air India   Kolkata  ...             5           50\n",
              "2  Jet Airways     Delhi  ...             9           25\n",
              "3       IndiGo   Kolkata  ...            18            5\n",
              "4       IndiGo  Banglore  ...            16           50\n",
              "\n",
              "[5 rows x 13 columns]"
            ]
          },
          "metadata": {
            "tags": []
          },
          "execution_count": 182
        }
      ]
    },
    {
      "cell_type": "code",
      "metadata": {
        "id": "bLltFtaDakLn"
      },
      "source": [
        "extract_hour(df1,'Arrival_Time')\n",
        "extract_min(df1,'Arrival_Time')\n",
        "drop_col(df1,'Arrival_Time')"
      ],
      "execution_count": 183,
      "outputs": []
    },
    {
      "cell_type": "code",
      "metadata": {
        "colab": {
          "base_uri": "https://localhost:8080/",
          "height": 380
        },
        "id": "tf51uoSEakJi",
        "outputId": "e02ecc58-1511-4ced-ac4a-ecabcc615618"
      },
      "source": [
        "df1.head()"
      ],
      "execution_count": 184,
      "outputs": [
        {
          "output_type": "execute_result",
          "data": {
            "text/html": [
              "<div>\n",
              "<style scoped>\n",
              "    .dataframe tbody tr th:only-of-type {\n",
              "        vertical-align: middle;\n",
              "    }\n",
              "\n",
              "    .dataframe tbody tr th {\n",
              "        vertical-align: top;\n",
              "    }\n",
              "\n",
              "    .dataframe thead th {\n",
              "        text-align: right;\n",
              "    }\n",
              "</style>\n",
              "<table border=\"1\" class=\"dataframe\">\n",
              "  <thead>\n",
              "    <tr style=\"text-align: right;\">\n",
              "      <th></th>\n",
              "      <th>Airline</th>\n",
              "      <th>Source</th>\n",
              "      <th>Destination</th>\n",
              "      <th>Route</th>\n",
              "      <th>Duration</th>\n",
              "      <th>Total_Stops</th>\n",
              "      <th>Additional_Info</th>\n",
              "      <th>Price</th>\n",
              "      <th>journey_day</th>\n",
              "      <th>journey_month</th>\n",
              "      <th>Dep_Time_hour</th>\n",
              "      <th>Dep_Time_min</th>\n",
              "      <th>Arrival_Time_hour</th>\n",
              "      <th>Arrival_Time_min</th>\n",
              "    </tr>\n",
              "  </thead>\n",
              "  <tbody>\n",
              "    <tr>\n",
              "      <th>0</th>\n",
              "      <td>IndiGo</td>\n",
              "      <td>Banglore</td>\n",
              "      <td>New Delhi</td>\n",
              "      <td>BLR → DEL</td>\n",
              "      <td>2h 50m</td>\n",
              "      <td>non-stop</td>\n",
              "      <td>No info</td>\n",
              "      <td>3897</td>\n",
              "      <td>24</td>\n",
              "      <td>3</td>\n",
              "      <td>22</td>\n",
              "      <td>20</td>\n",
              "      <td>1</td>\n",
              "      <td>10</td>\n",
              "    </tr>\n",
              "    <tr>\n",
              "      <th>1</th>\n",
              "      <td>Air India</td>\n",
              "      <td>Kolkata</td>\n",
              "      <td>Banglore</td>\n",
              "      <td>CCU → IXR → BBI → BLR</td>\n",
              "      <td>7h 25m</td>\n",
              "      <td>2 stops</td>\n",
              "      <td>No info</td>\n",
              "      <td>7662</td>\n",
              "      <td>5</td>\n",
              "      <td>1</td>\n",
              "      <td>5</td>\n",
              "      <td>50</td>\n",
              "      <td>13</td>\n",
              "      <td>15</td>\n",
              "    </tr>\n",
              "    <tr>\n",
              "      <th>2</th>\n",
              "      <td>Jet Airways</td>\n",
              "      <td>Delhi</td>\n",
              "      <td>Cochin</td>\n",
              "      <td>DEL → LKO → BOM → COK</td>\n",
              "      <td>19h</td>\n",
              "      <td>2 stops</td>\n",
              "      <td>No info</td>\n",
              "      <td>13882</td>\n",
              "      <td>6</td>\n",
              "      <td>9</td>\n",
              "      <td>9</td>\n",
              "      <td>25</td>\n",
              "      <td>4</td>\n",
              "      <td>25</td>\n",
              "    </tr>\n",
              "    <tr>\n",
              "      <th>3</th>\n",
              "      <td>IndiGo</td>\n",
              "      <td>Kolkata</td>\n",
              "      <td>Banglore</td>\n",
              "      <td>CCU → NAG → BLR</td>\n",
              "      <td>5h 25m</td>\n",
              "      <td>1 stop</td>\n",
              "      <td>No info</td>\n",
              "      <td>6218</td>\n",
              "      <td>5</td>\n",
              "      <td>12</td>\n",
              "      <td>18</td>\n",
              "      <td>5</td>\n",
              "      <td>23</td>\n",
              "      <td>30</td>\n",
              "    </tr>\n",
              "    <tr>\n",
              "      <th>4</th>\n",
              "      <td>IndiGo</td>\n",
              "      <td>Banglore</td>\n",
              "      <td>New Delhi</td>\n",
              "      <td>BLR → NAG → DEL</td>\n",
              "      <td>4h 45m</td>\n",
              "      <td>1 stop</td>\n",
              "      <td>No info</td>\n",
              "      <td>13302</td>\n",
              "      <td>3</td>\n",
              "      <td>1</td>\n",
              "      <td>16</td>\n",
              "      <td>50</td>\n",
              "      <td>21</td>\n",
              "      <td>35</td>\n",
              "    </tr>\n",
              "  </tbody>\n",
              "</table>\n",
              "</div>"
            ],
            "text/plain": [
              "       Airline    Source  ... Arrival_Time_hour Arrival_Time_min\n",
              "0       IndiGo  Banglore  ...                 1               10\n",
              "1    Air India   Kolkata  ...                13               15\n",
              "2  Jet Airways     Delhi  ...                 4               25\n",
              "3       IndiGo   Kolkata  ...                23               30\n",
              "4       IndiGo  Banglore  ...                21               35\n",
              "\n",
              "[5 rows x 14 columns]"
            ]
          },
          "metadata": {
            "tags": []
          },
          "execution_count": 184
        }
      ]
    },
    {
      "cell_type": "code",
      "metadata": {
        "colab": {
          "base_uri": "https://localhost:8080/"
        },
        "id": "DwmLpVp0cQL2",
        "outputId": "4a909ee0-8420-44db-f646-7fa11f0c3b0c"
      },
      "source": [
        "list(df1['Duration'])"
      ],
      "execution_count": 185,
      "outputs": [
        {
          "output_type": "execute_result",
          "data": {
            "text/plain": [
              "['2h 50m',\n",
              " '7h 25m',\n",
              " '19h',\n",
              " '5h 25m',\n",
              " '4h 45m',\n",
              " '2h 25m',\n",
              " '15h 30m',\n",
              " '21h 5m',\n",
              " '25h 30m',\n",
              " '7h 50m',\n",
              " '13h 15m',\n",
              " '2h 35m',\n",
              " '2h 15m',\n",
              " '12h 10m',\n",
              " '2h 35m',\n",
              " '26h 35m',\n",
              " '4h 30m',\n",
              " '22h 35m',\n",
              " '23h',\n",
              " '20h 35m',\n",
              " '5h 10m',\n",
              " '15h 20m',\n",
              " '2h 50m',\n",
              " '2h 55m',\n",
              " '13h 20m',\n",
              " '15h 10m',\n",
              " '5h 45m',\n",
              " '5h 55m',\n",
              " '2h 50m',\n",
              " '2h 15m',\n",
              " '2h 15m',\n",
              " '13h 25m',\n",
              " '2h 50m',\n",
              " '22h',\n",
              " '5h 30m',\n",
              " '10h 25m',\n",
              " '5h 15m',\n",
              " '2h 30m',\n",
              " '6h 15m',\n",
              " '11h 55m',\n",
              " '11h 5m',\n",
              " '8h 30m',\n",
              " '22h 5m',\n",
              " '2h 45m',\n",
              " '12h',\n",
              " '2h 50m',\n",
              " '2h 50m',\n",
              " '2h 15m',\n",
              " '16h 5m',\n",
              " '19h 55m',\n",
              " '3h 15m',\n",
              " '25h 20m',\n",
              " '2h 50m',\n",
              " '3h',\n",
              " '2h 50m',\n",
              " '16h 15m',\n",
              " '15h 5m',\n",
              " '2h 15m',\n",
              " '6h 30m',\n",
              " '25h 5m',\n",
              " '12h 25m',\n",
              " '27h 20m',\n",
              " '10h 15m',\n",
              " '10h 30m',\n",
              " '2h 15m',\n",
              " '10h 25m',\n",
              " '2h 50m',\n",
              " '1h 30m',\n",
              " '13h 20m',\n",
              " '2h 15m',\n",
              " '1h 25m',\n",
              " '26h 30m',\n",
              " '7h 20m',\n",
              " '13h 30m',\n",
              " '5h',\n",
              " '2h 45m',\n",
              " '2h 50m',\n",
              " '1h 30m',\n",
              " '19h 5m',\n",
              " '2h 15m',\n",
              " '14h 50m',\n",
              " '2h 40m',\n",
              " '22h 10m',\n",
              " '9h 35m',\n",
              " '10h',\n",
              " '21h 20m',\n",
              " '5h 25m',\n",
              " '18h 45m',\n",
              " '12h 20m',\n",
              " '18h',\n",
              " '9h 15m',\n",
              " '11h 5m',\n",
              " '17h 30m',\n",
              " '13h 20m',\n",
              " '2h 35m',\n",
              " '2h 25m',\n",
              " '2h 40m',\n",
              " '3h',\n",
              " '1h 25m',\n",
              " '16h 35m',\n",
              " '12h 20m',\n",
              " '12h 15m',\n",
              " '7h 30m',\n",
              " '24h',\n",
              " '2h 45m',\n",
              " '8h 55m',\n",
              " '7h 10m',\n",
              " '14h 30m',\n",
              " '30h 20m',\n",
              " '19h 55m',\n",
              " '15h',\n",
              " '2h 55m',\n",
              " '12h 45m',\n",
              " '10h 10m',\n",
              " '5h 55m',\n",
              " '15h 25m',\n",
              " '16h 5m',\n",
              " '10h 10m',\n",
              " '2h 40m',\n",
              " '11h 55m',\n",
              " '2h 40m',\n",
              " '1h 25m',\n",
              " '14h 5m',\n",
              " '20h 15m',\n",
              " '2h 25m',\n",
              " '23h 10m',\n",
              " '18h 10m',\n",
              " '16h',\n",
              " '2h 50m',\n",
              " '2h 20m',\n",
              " '8h',\n",
              " '16h 55m',\n",
              " '3h 10m',\n",
              " '2h 45m',\n",
              " '14h',\n",
              " '23h 50m',\n",
              " '21h 40m',\n",
              " '21h 15m',\n",
              " '2h 45m',\n",
              " '10h 50m',\n",
              " '8h',\n",
              " '8h 15m',\n",
              " '5h 25m',\n",
              " '8h 35m',\n",
              " '11h 50m',\n",
              " '27h 35m',\n",
              " '8h 25m',\n",
              " '20h 55m',\n",
              " '4h 50m',\n",
              " '8h 10m',\n",
              " '2h 20m',\n",
              " '24h 25m',\n",
              " '2h 50m',\n",
              " '12h 20m',\n",
              " '12h 15m',\n",
              " '23h 35m',\n",
              " '16h 35m',\n",
              " '2h 50m',\n",
              " '25h 45m',\n",
              " '26h 10m',\n",
              " '28h 50m',\n",
              " '2h 45m',\n",
              " '25h 15m',\n",
              " '9h 20m',\n",
              " '4h 30m',\n",
              " '15h 25m',\n",
              " '1h 30m',\n",
              " '2h 40m',\n",
              " '9h 10m',\n",
              " '2h 45m',\n",
              " '22h 35m',\n",
              " '3h 5m',\n",
              " '11h 30m',\n",
              " '9h 30m',\n",
              " '12h 10m',\n",
              " '17h 35m',\n",
              " '5h 5m',\n",
              " '25h 50m',\n",
              " '20h',\n",
              " '13h',\n",
              " '18h 25m',\n",
              " '1h 30m',\n",
              " '9h 30m',\n",
              " '16h',\n",
              " '2h 20m',\n",
              " '4h 30m',\n",
              " '5h 45m',\n",
              " '24h 10m',\n",
              " '2h 35m',\n",
              " '2h 45m',\n",
              " '4h 55m',\n",
              " '25h 35m',\n",
              " '6h 20m',\n",
              " '3h 5m',\n",
              " '18h 40m',\n",
              " '2h 15m',\n",
              " '12h 10m',\n",
              " '19h 25m',\n",
              " '2h 50m',\n",
              " '8h 25m',\n",
              " '9h 15m',\n",
              " '2h 50m',\n",
              " '3h 15m',\n",
              " '2h 50m',\n",
              " '12h 20m',\n",
              " '2h 55m',\n",
              " '9h 35m',\n",
              " '2h 35m',\n",
              " '9h 30m',\n",
              " '29h 20m',\n",
              " '2h 55m',\n",
              " '5h 15m',\n",
              " '9h 5m',\n",
              " '10h 45m',\n",
              " '4h 55m',\n",
              " '1h 30m',\n",
              " '11h 40m',\n",
              " '2h 45m',\n",
              " '2h 55m',\n",
              " '10h',\n",
              " '2h 45m',\n",
              " '10h 15m',\n",
              " '1h 25m',\n",
              " '9h 15m',\n",
              " '22h 55m',\n",
              " '28h 50m',\n",
              " '37h 25m',\n",
              " '2h 50m',\n",
              " '1h 30m',\n",
              " '1h 30m',\n",
              " '25h 40m',\n",
              " '2h 35m',\n",
              " '6h 15m',\n",
              " '17h 30m',\n",
              " '5h 45m',\n",
              " '2h 35m',\n",
              " '25h 30m',\n",
              " '13h 55m',\n",
              " '2h 55m',\n",
              " '10h 15m',\n",
              " '8h 40m',\n",
              " '5h 30m',\n",
              " '12h',\n",
              " '2h 15m',\n",
              " '2h 15m',\n",
              " '2h 50m',\n",
              " '9h 10m',\n",
              " '10h 25m',\n",
              " '2h 20m',\n",
              " '4h 30m',\n",
              " '3h 10m',\n",
              " '23h 30m',\n",
              " '27h 20m',\n",
              " '12h 35m',\n",
              " '24h 15m',\n",
              " '1h 20m',\n",
              " '2h 45m',\n",
              " '3h',\n",
              " '11h',\n",
              " '13h 30m',\n",
              " '2h 50m',\n",
              " '2h 55m',\n",
              " '2h 45m',\n",
              " '11h 15m',\n",
              " '14h 35m',\n",
              " '13h 55m',\n",
              " '14h 5m',\n",
              " '15h 5m',\n",
              " '2h 15m',\n",
              " '15h',\n",
              " '12h 55m',\n",
              " '9h',\n",
              " '12h 15m',\n",
              " '7h 40m',\n",
              " '27h 20m',\n",
              " '1h 25m',\n",
              " '1h 20m',\n",
              " '5h 30m',\n",
              " '11h 45m',\n",
              " '3h 15m',\n",
              " '24h 55m',\n",
              " '27h 20m',\n",
              " '2h 55m',\n",
              " '17h 5m',\n",
              " '2h 40m',\n",
              " '8h',\n",
              " '3h',\n",
              " '27h 35m',\n",
              " '7h 30m',\n",
              " '22h 55m',\n",
              " '8h 35m',\n",
              " '29h 55m',\n",
              " '22h 15m',\n",
              " '1h 20m',\n",
              " '2h 40m',\n",
              " '3h',\n",
              " '12h 10m',\n",
              " '2h 35m',\n",
              " '11h 45m',\n",
              " '2h 35m',\n",
              " '1h 30m',\n",
              " '2h 40m',\n",
              " '2h 35m',\n",
              " '22h 55m',\n",
              " '14h 40m',\n",
              " '15h 25m',\n",
              " '7h 15m',\n",
              " '20h 10m',\n",
              " '20h 45m',\n",
              " '2h 30m',\n",
              " '23h 50m',\n",
              " '27h',\n",
              " '5h 30m',\n",
              " '11h 50m',\n",
              " '2h 15m',\n",
              " '24h 30m',\n",
              " '2h 20m',\n",
              " '6h 30m',\n",
              " '20h 25m',\n",
              " '2h 35m',\n",
              " '2h 55m',\n",
              " '5h 35m',\n",
              " '2h 30m',\n",
              " '14h 45m',\n",
              " '12h 20m',\n",
              " '25h 30m',\n",
              " '5h 35m',\n",
              " '11h 45m',\n",
              " '2h 55m',\n",
              " '5h 40m',\n",
              " '4h 5m',\n",
              " '8h',\n",
              " '2h 45m',\n",
              " '2h 40m',\n",
              " '2h 55m',\n",
              " '15h 55m',\n",
              " '23h 10m',\n",
              " '7h 20m',\n",
              " '2h 50m',\n",
              " '7h 30m',\n",
              " '3h',\n",
              " '7h 45m',\n",
              " '25h 20m',\n",
              " '10h 25m',\n",
              " '30h 20m',\n",
              " '2h 35m',\n",
              " '9h',\n",
              " '15h 10m',\n",
              " '28h 20m',\n",
              " '3h',\n",
              " '2h 45m',\n",
              " '4h 55m',\n",
              " '2h 40m',\n",
              " '22h 10m',\n",
              " '10h 10m',\n",
              " '2h 50m',\n",
              " '4h 20m',\n",
              " '11h',\n",
              " '3h',\n",
              " '22h 35m',\n",
              " '3h 5m',\n",
              " '2h 40m',\n",
              " '2h 50m',\n",
              " '21h 5m',\n",
              " '11h 50m',\n",
              " '25h 35m',\n",
              " '15h 25m',\n",
              " '2h 25m',\n",
              " '3h 40m',\n",
              " '2h 55m',\n",
              " '3h 10m',\n",
              " '11h 50m',\n",
              " '2h 50m',\n",
              " '2h 50m',\n",
              " '1h 30m',\n",
              " '11h 30m',\n",
              " '8h 50m',\n",
              " '20h 15m',\n",
              " '20h 10m',\n",
              " '16h 5m',\n",
              " '12h 35m',\n",
              " '17h 5m',\n",
              " '3h',\n",
              " '15h 30m',\n",
              " '11h 30m',\n",
              " '2h 20m',\n",
              " '23h 45m',\n",
              " '1h 30m',\n",
              " '2h 35m',\n",
              " '24h 45m',\n",
              " '21h 35m',\n",
              " '5h 30m',\n",
              " '12h 15m',\n",
              " '8h 5m',\n",
              " '5h',\n",
              " '2h 50m',\n",
              " '6h 25m',\n",
              " '2h 20m',\n",
              " '2h 45m',\n",
              " '12h 45m',\n",
              " '15h 50m',\n",
              " '27h',\n",
              " '26h 25m',\n",
              " '2h 55m',\n",
              " '24h 50m',\n",
              " '8h 40m',\n",
              " '25h 45m',\n",
              " '2h 50m',\n",
              " '6h 15m',\n",
              " '10h 30m',\n",
              " '26h',\n",
              " '17h 5m',\n",
              " '21h 20m',\n",
              " '5h 35m',\n",
              " '2h 50m',\n",
              " '25h 50m',\n",
              " '12h 10m',\n",
              " '17h 5m',\n",
              " '8h 30m',\n",
              " '23h 5m',\n",
              " '9h 20m',\n",
              " '7h 55m',\n",
              " '1h 30m',\n",
              " '2h 50m',\n",
              " '2h 15m',\n",
              " '10h',\n",
              " '2h 35m',\n",
              " '7h 45m',\n",
              " '2h 55m',\n",
              " '26h 20m',\n",
              " '2h 40m',\n",
              " '11h',\n",
              " '19h 25m',\n",
              " '2h 55m',\n",
              " '2h 45m',\n",
              " '23h 15m',\n",
              " '9h',\n",
              " '3h 10m',\n",
              " '6h 25m',\n",
              " '8h 40m',\n",
              " '2h 50m',\n",
              " '12h 20m',\n",
              " '5h 20m',\n",
              " '4h',\n",
              " '9h 45m',\n",
              " '2h 55m',\n",
              " '26h 20m',\n",
              " '2h 15m',\n",
              " '9h 45m',\n",
              " '24h 55m',\n",
              " '11h 55m',\n",
              " '8h 20m',\n",
              " '17h 25m',\n",
              " '2h 50m',\n",
              " '7h 5m',\n",
              " '21h 15m',\n",
              " '5h',\n",
              " '2h 25m',\n",
              " '5h 15m',\n",
              " '15h 10m',\n",
              " '11h 45m',\n",
              " '3h',\n",
              " '4h 55m',\n",
              " '2h 45m',\n",
              " '2h 30m',\n",
              " '9h 45m',\n",
              " '2h 40m',\n",
              " '6h 30m',\n",
              " '5h 30m',\n",
              " '2h 40m',\n",
              " '34h 5m',\n",
              " '15h 25m',\n",
              " '9h 30m',\n",
              " '6h 5m',\n",
              " '2h 40m',\n",
              " '5h 50m',\n",
              " '2h 45m',\n",
              " '27h 20m',\n",
              " '3h',\n",
              " '5h 15m',\n",
              " '16h',\n",
              " '7h',\n",
              " '8h 40m',\n",
              " '9h',\n",
              " '2h 20m',\n",
              " '2h 20m',\n",
              " '6h 20m',\n",
              " '4h 25m',\n",
              " '2h 20m',\n",
              " '11h 5m',\n",
              " '16h 55m',\n",
              " '13h 45m',\n",
              " '25h 45m',\n",
              " '13h 55m',\n",
              " '5h 15m',\n",
              " '19h 15m',\n",
              " '7h 30m',\n",
              " '9h',\n",
              " '24h',\n",
              " '18h 10m',\n",
              " '2h 55m',\n",
              " '1h 30m',\n",
              " '21h 20m',\n",
              " '6h 15m',\n",
              " '14h 30m',\n",
              " '1h 20m',\n",
              " '12h 55m',\n",
              " '2h 25m',\n",
              " '22h 30m',\n",
              " '22h 55m',\n",
              " '5h 25m',\n",
              " '1h 25m',\n",
              " '7h 15m',\n",
              " '12h 20m',\n",
              " '20h 10m',\n",
              " '21h 15m',\n",
              " '2h 15m',\n",
              " '10h 30m',\n",
              " '14h 5m',\n",
              " '2h 50m',\n",
              " '16h 25m',\n",
              " '5h 15m',\n",
              " '13h 50m',\n",
              " '2h 15m',\n",
              " '7h 15m',\n",
              " '27h 5m',\n",
              " '27h 35m',\n",
              " '5h',\n",
              " '2h 50m',\n",
              " '2h 50m',\n",
              " '15h 20m',\n",
              " '5h 20m',\n",
              " '10h 10m',\n",
              " '27h 35m',\n",
              " '9h 35m',\n",
              " '28h 10m',\n",
              " '14h',\n",
              " '2h 35m',\n",
              " '2h 55m',\n",
              " '2h 35m',\n",
              " '4h 40m',\n",
              " '2h 30m',\n",
              " '11h 15m',\n",
              " '7h 55m',\n",
              " '8h 50m',\n",
              " '1h 25m',\n",
              " '15h 40m',\n",
              " '2h 35m',\n",
              " '2h 55m',\n",
              " '13h 25m',\n",
              " '4h 35m',\n",
              " '18h 30m',\n",
              " '2h 15m',\n",
              " '38h 15m',\n",
              " '3h 5m',\n",
              " '25h 50m',\n",
              " '3h 10m',\n",
              " '2h 50m',\n",
              " '11h 30m',\n",
              " '6h 35m',\n",
              " '27h 35m',\n",
              " '2h 35m',\n",
              " '7h 30m',\n",
              " '3h 15m',\n",
              " '9h 35m',\n",
              " '12h 30m',\n",
              " '11h 20m',\n",
              " '3h',\n",
              " '2h 35m',\n",
              " '1h 30m',\n",
              " '26h 10m',\n",
              " '4h 55m',\n",
              " '2h 45m',\n",
              " '8h 40m',\n",
              " '7h 5m',\n",
              " '2h 45m',\n",
              " '24h 50m',\n",
              " '2h 20m',\n",
              " '11h',\n",
              " '9h',\n",
              " '2h 55m',\n",
              " '3h 5m',\n",
              " '2h 35m',\n",
              " '13h',\n",
              " '1h 25m',\n",
              " '7h 35m',\n",
              " '2h 40m',\n",
              " '12h 55m',\n",
              " '29h 20m',\n",
              " '5h',\n",
              " '8h 40m',\n",
              " '3h',\n",
              " '3h',\n",
              " '2h 45m',\n",
              " '12h 10m',\n",
              " '2h 20m',\n",
              " '7h 55m',\n",
              " '29h 35m',\n",
              " '26h 55m',\n",
              " '12h 45m',\n",
              " '7h 35m',\n",
              " '2h 30m',\n",
              " '11h 45m',\n",
              " '23h 40m',\n",
              " '13h 50m',\n",
              " '12h 50m',\n",
              " '9h 50m',\n",
              " '2h 30m',\n",
              " '21h 55m',\n",
              " '26h 10m',\n",
              " '2h 55m',\n",
              " '20h 15m',\n",
              " '20h 10m',\n",
              " '10h 55m',\n",
              " '2h 30m',\n",
              " '21h 10m',\n",
              " '2h 35m',\n",
              " '20h 40m',\n",
              " '2h 50m',\n",
              " '6h 30m',\n",
              " '30h',\n",
              " '13h 10m',\n",
              " '2h 55m',\n",
              " '18h',\n",
              " '8h',\n",
              " '8h 45m',\n",
              " '12h 30m',\n",
              " '13h 20m',\n",
              " '6h 10m',\n",
              " '7h 30m',\n",
              " '19h 15m',\n",
              " '2h 35m',\n",
              " '12h',\n",
              " '3h',\n",
              " '2h 50m',\n",
              " '1h 25m',\n",
              " '23h 5m',\n",
              " '2h 50m',\n",
              " '22h 5m',\n",
              " '2h 15m',\n",
              " '5h 45m',\n",
              " '2h 50m',\n",
              " '9h 30m',\n",
              " '8h 55m',\n",
              " '17h 45m',\n",
              " '2h 50m',\n",
              " '21h 45m',\n",
              " '12h 35m',\n",
              " '1h 30m',\n",
              " '2h 15m',\n",
              " '3h 55m',\n",
              " '2h 45m',\n",
              " '7h 30m',\n",
              " '17h 20m',\n",
              " '1h 30m',\n",
              " '1h 30m',\n",
              " '30h 30m',\n",
              " '5h',\n",
              " '11h 15m',\n",
              " '2h 50m',\n",
              " '19h 5m',\n",
              " '6h 35m',\n",
              " '7h 30m',\n",
              " '2h 15m',\n",
              " '2h 45m',\n",
              " '12h 45m',\n",
              " '2h 50m',\n",
              " '26h 35m',\n",
              " '12h 55m',\n",
              " '1h 30m',\n",
              " '8h 40m',\n",
              " '14h',\n",
              " '23h 30m',\n",
              " '29h 55m',\n",
              " '22h 10m',\n",
              " '4h 50m',\n",
              " '2h 45m',\n",
              " '13h 30m',\n",
              " '13h 20m',\n",
              " '2h 20m',\n",
              " '11h 55m',\n",
              " '5h 10m',\n",
              " '11h 45m',\n",
              " '13h 50m',\n",
              " '3h',\n",
              " '6h 10m',\n",
              " '2h 20m',\n",
              " '10h 45m',\n",
              " '2h 15m',\n",
              " '2h 55m',\n",
              " '1h 30m',\n",
              " '7h 35m',\n",
              " '26h 35m',\n",
              " '4h 45m',\n",
              " '21h 25m',\n",
              " '8h 35m',\n",
              " '8h 30m',\n",
              " '2h 15m',\n",
              " '12h 40m',\n",
              " '8h 25m',\n",
              " '25h 40m',\n",
              " '2h 45m',\n",
              " '29h 20m',\n",
              " '2h 40m',\n",
              " '2h 50m',\n",
              " '2h 20m',\n",
              " '7h 15m',\n",
              " '20h 15m',\n",
              " '11h 45m',\n",
              " '2h 35m',\n",
              " '13h 30m',\n",
              " '1h 30m',\n",
              " '24h 35m',\n",
              " '20h 35m',\n",
              " '2h 50m',\n",
              " '4h 35m',\n",
              " '2h 20m',\n",
              " '11h 45m',\n",
              " '1h 30m',\n",
              " '12h 50m',\n",
              " '24h 30m',\n",
              " '11h 30m',\n",
              " '4h',\n",
              " '11h',\n",
              " '5h 25m',\n",
              " '2h 35m',\n",
              " '5h 10m',\n",
              " '10h 10m',\n",
              " '26h 55m',\n",
              " '7h 15m',\n",
              " '8h 10m',\n",
              " '2h 55m',\n",
              " '5h 15m',\n",
              " '2h 20m',\n",
              " '1h 25m',\n",
              " '4h 50m',\n",
              " '2h 20m',\n",
              " '2h 20m',\n",
              " '13h 15m',\n",
              " '19h 10m',\n",
              " '22h 40m',\n",
              " '14h 50m',\n",
              " '15h 10m',\n",
              " '7h 5m',\n",
              " '1h 25m',\n",
              " '2h 55m',\n",
              " '8h',\n",
              " '2h 45m',\n",
              " '14h 55m',\n",
              " '1h 30m',\n",
              " '16h 15m',\n",
              " '2h 50m',\n",
              " '5h',\n",
              " '22h 15m',\n",
              " '5h 30m',\n",
              " '8h 35m',\n",
              " '15h 25m',\n",
              " '21h',\n",
              " '13h 30m',\n",
              " '2h 50m',\n",
              " '6h 45m',\n",
              " '1h 30m',\n",
              " '8h 40m',\n",
              " '1h 30m',\n",
              " '2h 50m',\n",
              " '2h 35m',\n",
              " '16h 5m',\n",
              " '23h 50m',\n",
              " '27h 5m',\n",
              " '16h 15m',\n",
              " '15h 25m',\n",
              " '2h 50m',\n",
              " '8h 35m',\n",
              " '13h 50m',\n",
              " '2h 40m',\n",
              " '2h 25m',\n",
              " '3h 10m',\n",
              " '2h 55m',\n",
              " '28h 40m',\n",
              " '2h 50m',\n",
              " '2h 35m',\n",
              " '9h 40m',\n",
              " '16h 40m',\n",
              " '6h 20m',\n",
              " '27h',\n",
              " '14h 35m',\n",
              " '12h 10m',\n",
              " '7h 35m',\n",
              " '2h 20m',\n",
              " '19h 10m',\n",
              " '20h',\n",
              " '3h',\n",
              " '5h 10m',\n",
              " '2h 40m',\n",
              " '29h 35m',\n",
              " '4h 55m',\n",
              " '3h',\n",
              " '12h 30m',\n",
              " '12h 35m',\n",
              " '26h 20m',\n",
              " '13h 15m',\n",
              " '2h 50m',\n",
              " '12h 45m',\n",
              " '16h 20m',\n",
              " '2h 40m',\n",
              " '8h 15m',\n",
              " '12h',\n",
              " '2h 50m',\n",
              " '11h',\n",
              " '2h 20m',\n",
              " '13h 50m',\n",
              " '8h 10m',\n",
              " '12h 10m',\n",
              " '2h 40m',\n",
              " '2h 45m',\n",
              " '2h 50m',\n",
              " '24h',\n",
              " '3h',\n",
              " '12h 35m',\n",
              " '25h 50m',\n",
              " '2h 55m',\n",
              " '17h 5m',\n",
              " '29h 20m',\n",
              " '8h 55m',\n",
              " '3h 5m',\n",
              " '9h',\n",
              " '10h 25m',\n",
              " '16h 45m',\n",
              " '2h 45m',\n",
              " '26h 20m',\n",
              " '13h 15m',\n",
              " '10h 30m',\n",
              " '7h 35m',\n",
              " '11h',\n",
              " '2h 50m',\n",
              " '25h 45m',\n",
              " '6h 25m',\n",
              " '1h 25m',\n",
              " '20h 10m',\n",
              " '11h 55m',\n",
              " '2h 50m',\n",
              " '5h',\n",
              " '27h',\n",
              " '2h 50m',\n",
              " '1h 15m',\n",
              " '10h 15m',\n",
              " '24h 50m',\n",
              " '2h 50m',\n",
              " '20h',\n",
              " '5h 30m',\n",
              " '2h 45m',\n",
              " '6h 55m',\n",
              " '2h 45m',\n",
              " '5h 15m',\n",
              " '6h 15m',\n",
              " '2h 50m',\n",
              " '19h 25m',\n",
              " '2h 55m',\n",
              " '11h 25m',\n",
              " '14h 5m',\n",
              " '2h 45m',\n",
              " '3h 15m',\n",
              " '14h 20m',\n",
              " '12h 30m',\n",
              " '5h 20m',\n",
              " '26h 20m',\n",
              " '3h 5m',\n",
              " '1h 30m',\n",
              " '7h 5m',\n",
              " '6h 10m',\n",
              " '8h',\n",
              " '12h 5m',\n",
              " '12h 55m',\n",
              " '9h 35m',\n",
              " '15h 10m',\n",
              " '11h 40m',\n",
              " '2h 55m',\n",
              " '4h 30m',\n",
              " '2h 40m',\n",
              " '2h 30m',\n",
              " '24h 10m',\n",
              " '28h 20m',\n",
              " '1h 25m',\n",
              " '10h 10m',\n",
              " '11h 30m',\n",
              " '2h 50m',\n",
              " '13h 45m',\n",
              " '6h 25m',\n",
              " '12h 55m',\n",
              " '4h 25m',\n",
              " '13h 30m',\n",
              " '24h 5m',\n",
              " '16h 5m',\n",
              " '8h 20m',\n",
              " '3h 40m',\n",
              " '9h 30m',\n",
              " '28h 15m',\n",
              " '13h 20m',\n",
              " '17h 50m',\n",
              " '20h 20m',\n",
              " '28h 5m',\n",
              " '15h 25m',\n",
              " '12h 5m',\n",
              " '10h 20m',\n",
              " '12h 25m',\n",
              " '7h 35m',\n",
              " '2h 50m',\n",
              " '4h 35m',\n",
              " '11h 15m',\n",
              " '2h 35m',\n",
              " '26h',\n",
              " '2h 25m',\n",
              " '2h 35m',\n",
              " '14h 15m',\n",
              " '2h 35m',\n",
              " '22h 5m',\n",
              " '6h 35m',\n",
              " '8h 30m',\n",
              " '18h 45m',\n",
              " '35h 15m',\n",
              " '2h 15m',\n",
              " '2h 30m',\n",
              " '2h 20m',\n",
              " '2h 30m',\n",
              " '7h 35m',\n",
              " '35h 35m',\n",
              " '26h 30m',\n",
              " '11h 30m',\n",
              " '26h 40m',\n",
              " '3h',\n",
              " '1h 30m',\n",
              " '2h 55m',\n",
              " '14h 15m',\n",
              " '16h 55m',\n",
              " '12h 20m',\n",
              " '29h 35m',\n",
              " '20h 20m',\n",
              " '8h 25m',\n",
              " '13h 50m',\n",
              " '10h',\n",
              " '19h 25m',\n",
              " '28h',\n",
              " '2h 50m',\n",
              " '17h 20m',\n",
              " '2h 45m',\n",
              " '2h 55m',\n",
              " '13h 25m',\n",
              " '12h 55m',\n",
              " '9h 45m',\n",
              " '21h 25m',\n",
              " '15h 40m',\n",
              " '2h 20m',\n",
              " '14h 25m',\n",
              " '2h 50m',\n",
              " '6h 35m',\n",
              " '22h 10m',\n",
              " '14h 25m',\n",
              " '2h 30m',\n",
              " '23h 35m',\n",
              " '13h 5m',\n",
              " '1h 30m',\n",
              " '5h 5m',\n",
              " '1h 20m',\n",
              " '22h 55m',\n",
              " '1h 30m',\n",
              " '2h 35m',\n",
              " '37h 20m',\n",
              " '2h 50m',\n",
              " '2h 50m',\n",
              " '36h 10m',\n",
              " '9h 15m',\n",
              " '1h 25m',\n",
              " '5h 5m',\n",
              " '2h 15m',\n",
              " '15h 10m',\n",
              " '25h 55m',\n",
              " '5h 40m',\n",
              " '7h 30m',\n",
              " '17h 45m',\n",
              " '2h 20m',\n",
              " '8h 15m',\n",
              " '3h 40m',\n",
              " '5h 55m',\n",
              " '2h 30m',\n",
              " '17h 30m',\n",
              " '13h 50m',\n",
              " '2h 15m',\n",
              " '21h 35m',\n",
              " '9h 30m',\n",
              " '8h 40m',\n",
              " '10h 25m',\n",
              " '35h 5m',\n",
              " '14h 15m',\n",
              " '3h',\n",
              " '25h 50m',\n",
              " '2h 30m',\n",
              " '8h 40m',\n",
              " '10h',\n",
              " '11h 30m',\n",
              " '7h 30m',\n",
              " ...]"
            ]
          },
          "metadata": {
            "tags": []
          },
          "execution_count": 185
        }
      ]
    },
    {
      "cell_type": "code",
      "metadata": {
        "id": "831PoCZpakGs"
      },
      "source": [
        "duration=list(df1['Duration'])\n",
        "for i in range(len(duration)):\n",
        "    if len(duration[i].split(' '))==2:\n",
        "        pass\n",
        "    else:\n",
        "        if 'h' in duration[i]:\n",
        "            duration[i]=duration[i]+' 0m'\n",
        "        else:\n",
        "            duration[i]='0h '+duration[i]"
      ],
      "execution_count": 186,
      "outputs": []
    },
    {
      "cell_type": "code",
      "metadata": {
        "id": "1BRVrv73akD9"
      },
      "source": [
        "df1['Duration']=duration"
      ],
      "execution_count": 187,
      "outputs": []
    },
    {
      "cell_type": "code",
      "metadata": {
        "colab": {
          "base_uri": "https://localhost:8080/",
          "height": 380
        },
        "id": "XAAXMvpvakBc",
        "outputId": "9bf904ab-df03-4dca-ff03-53e981d3842d"
      },
      "source": [
        "df1.head()"
      ],
      "execution_count": 188,
      "outputs": [
        {
          "output_type": "execute_result",
          "data": {
            "text/html": [
              "<div>\n",
              "<style scoped>\n",
              "    .dataframe tbody tr th:only-of-type {\n",
              "        vertical-align: middle;\n",
              "    }\n",
              "\n",
              "    .dataframe tbody tr th {\n",
              "        vertical-align: top;\n",
              "    }\n",
              "\n",
              "    .dataframe thead th {\n",
              "        text-align: right;\n",
              "    }\n",
              "</style>\n",
              "<table border=\"1\" class=\"dataframe\">\n",
              "  <thead>\n",
              "    <tr style=\"text-align: right;\">\n",
              "      <th></th>\n",
              "      <th>Airline</th>\n",
              "      <th>Source</th>\n",
              "      <th>Destination</th>\n",
              "      <th>Route</th>\n",
              "      <th>Duration</th>\n",
              "      <th>Total_Stops</th>\n",
              "      <th>Additional_Info</th>\n",
              "      <th>Price</th>\n",
              "      <th>journey_day</th>\n",
              "      <th>journey_month</th>\n",
              "      <th>Dep_Time_hour</th>\n",
              "      <th>Dep_Time_min</th>\n",
              "      <th>Arrival_Time_hour</th>\n",
              "      <th>Arrival_Time_min</th>\n",
              "    </tr>\n",
              "  </thead>\n",
              "  <tbody>\n",
              "    <tr>\n",
              "      <th>0</th>\n",
              "      <td>IndiGo</td>\n",
              "      <td>Banglore</td>\n",
              "      <td>New Delhi</td>\n",
              "      <td>BLR → DEL</td>\n",
              "      <td>2h 50m</td>\n",
              "      <td>non-stop</td>\n",
              "      <td>No info</td>\n",
              "      <td>3897</td>\n",
              "      <td>24</td>\n",
              "      <td>3</td>\n",
              "      <td>22</td>\n",
              "      <td>20</td>\n",
              "      <td>1</td>\n",
              "      <td>10</td>\n",
              "    </tr>\n",
              "    <tr>\n",
              "      <th>1</th>\n",
              "      <td>Air India</td>\n",
              "      <td>Kolkata</td>\n",
              "      <td>Banglore</td>\n",
              "      <td>CCU → IXR → BBI → BLR</td>\n",
              "      <td>7h 25m</td>\n",
              "      <td>2 stops</td>\n",
              "      <td>No info</td>\n",
              "      <td>7662</td>\n",
              "      <td>5</td>\n",
              "      <td>1</td>\n",
              "      <td>5</td>\n",
              "      <td>50</td>\n",
              "      <td>13</td>\n",
              "      <td>15</td>\n",
              "    </tr>\n",
              "    <tr>\n",
              "      <th>2</th>\n",
              "      <td>Jet Airways</td>\n",
              "      <td>Delhi</td>\n",
              "      <td>Cochin</td>\n",
              "      <td>DEL → LKO → BOM → COK</td>\n",
              "      <td>19h 0m</td>\n",
              "      <td>2 stops</td>\n",
              "      <td>No info</td>\n",
              "      <td>13882</td>\n",
              "      <td>6</td>\n",
              "      <td>9</td>\n",
              "      <td>9</td>\n",
              "      <td>25</td>\n",
              "      <td>4</td>\n",
              "      <td>25</td>\n",
              "    </tr>\n",
              "    <tr>\n",
              "      <th>3</th>\n",
              "      <td>IndiGo</td>\n",
              "      <td>Kolkata</td>\n",
              "      <td>Banglore</td>\n",
              "      <td>CCU → NAG → BLR</td>\n",
              "      <td>5h 25m</td>\n",
              "      <td>1 stop</td>\n",
              "      <td>No info</td>\n",
              "      <td>6218</td>\n",
              "      <td>5</td>\n",
              "      <td>12</td>\n",
              "      <td>18</td>\n",
              "      <td>5</td>\n",
              "      <td>23</td>\n",
              "      <td>30</td>\n",
              "    </tr>\n",
              "    <tr>\n",
              "      <th>4</th>\n",
              "      <td>IndiGo</td>\n",
              "      <td>Banglore</td>\n",
              "      <td>New Delhi</td>\n",
              "      <td>BLR → NAG → DEL</td>\n",
              "      <td>4h 45m</td>\n",
              "      <td>1 stop</td>\n",
              "      <td>No info</td>\n",
              "      <td>13302</td>\n",
              "      <td>3</td>\n",
              "      <td>1</td>\n",
              "      <td>16</td>\n",
              "      <td>50</td>\n",
              "      <td>21</td>\n",
              "      <td>35</td>\n",
              "    </tr>\n",
              "  </tbody>\n",
              "</table>\n",
              "</div>"
            ],
            "text/plain": [
              "       Airline    Source  ... Arrival_Time_hour Arrival_Time_min\n",
              "0       IndiGo  Banglore  ...                 1               10\n",
              "1    Air India   Kolkata  ...                13               15\n",
              "2  Jet Airways     Delhi  ...                 4               25\n",
              "3       IndiGo   Kolkata  ...                23               30\n",
              "4       IndiGo  Banglore  ...                21               35\n",
              "\n",
              "[5 rows x 14 columns]"
            ]
          },
          "metadata": {
            "tags": []
          },
          "execution_count": 188
        }
      ]
    },
    {
      "cell_type": "markdown",
      "metadata": {
        "id": "JcbUPQBnu0Ad"
      },
      "source": [
        "Now we will extract hours and minute from Duration Column"
      ]
    },
    {
      "cell_type": "code",
      "metadata": {
        "id": "heHHcF_Zaj3Z",
        "colab": {
          "base_uri": "https://localhost:8080/"
        },
        "outputId": "b210f926-ac66-4d16-d9d0-fa96f769ab0d"
      },
      "source": [
        "df1['Duration'][0].split(' ')"
      ],
      "execution_count": 189,
      "outputs": [
        {
          "output_type": "execute_result",
          "data": {
            "text/plain": [
              "['2h', '50m']"
            ]
          },
          "metadata": {
            "tags": []
          },
          "execution_count": 189
        }
      ]
    },
    {
      "cell_type": "code",
      "metadata": {
        "colab": {
          "base_uri": "https://localhost:8080/",
          "height": 35
        },
        "id": "CgLIPDEMvA_Z",
        "outputId": "2fc1f6e3-7051-4747-be04-697d88e657f2"
      },
      "source": [
        "df1['Duration'][0].split(' ')[0]"
      ],
      "execution_count": 190,
      "outputs": [
        {
          "output_type": "execute_result",
          "data": {
            "application/vnd.google.colaboratory.intrinsic+json": {
              "type": "string"
            },
            "text/plain": [
              "'2h'"
            ]
          },
          "metadata": {
            "tags": []
          },
          "execution_count": 190
        }
      ]
    },
    {
      "cell_type": "code",
      "metadata": {
        "colab": {
          "base_uri": "https://localhost:8080/",
          "height": 35
        },
        "id": "Gl84fStWvE_1",
        "outputId": "ca78665a-6f99-4447-88c6-376eb255ecf4"
      },
      "source": [
        "df1['Duration'][0].split(' ')[0][0:-1]"
      ],
      "execution_count": 191,
      "outputs": [
        {
          "output_type": "execute_result",
          "data": {
            "application/vnd.google.colaboratory.intrinsic+json": {
              "type": "string"
            },
            "text/plain": [
              "'2'"
            ]
          },
          "metadata": {
            "tags": []
          },
          "execution_count": 191
        }
      ]
    },
    {
      "cell_type": "code",
      "metadata": {
        "id": "qXwUMyTjvHQE"
      },
      "source": [
        "def hour(x):\n",
        "    return x.split(' ')[0][0:-1]\n",
        "def minute(x):\n",
        "    return x.split(' ')[1][0:-1]"
      ],
      "execution_count": 192,
      "outputs": []
    },
    {
      "cell_type": "code",
      "metadata": {
        "id": "hTJatbd5vgdY"
      },
      "source": [
        "df1['Duration_hours']=df1['Duration'].apply(hour)\n",
        "df1['Duration_min']=df1['Duration'].apply(minute)"
      ],
      "execution_count": 193,
      "outputs": []
    },
    {
      "cell_type": "code",
      "metadata": {
        "colab": {
          "base_uri": "https://localhost:8080/",
          "height": 585
        },
        "id": "yVcD8ICbvv5u",
        "outputId": "f3152b2d-45ed-4815-c6aa-9c70306fadfe"
      },
      "source": [
        "df1.head()"
      ],
      "execution_count": 194,
      "outputs": [
        {
          "output_type": "execute_result",
          "data": {
            "text/html": [
              "<div>\n",
              "<style scoped>\n",
              "    .dataframe tbody tr th:only-of-type {\n",
              "        vertical-align: middle;\n",
              "    }\n",
              "\n",
              "    .dataframe tbody tr th {\n",
              "        vertical-align: top;\n",
              "    }\n",
              "\n",
              "    .dataframe thead th {\n",
              "        text-align: right;\n",
              "    }\n",
              "</style>\n",
              "<table border=\"1\" class=\"dataframe\">\n",
              "  <thead>\n",
              "    <tr style=\"text-align: right;\">\n",
              "      <th></th>\n",
              "      <th>Airline</th>\n",
              "      <th>Source</th>\n",
              "      <th>Destination</th>\n",
              "      <th>Route</th>\n",
              "      <th>Duration</th>\n",
              "      <th>Total_Stops</th>\n",
              "      <th>Additional_Info</th>\n",
              "      <th>Price</th>\n",
              "      <th>journey_day</th>\n",
              "      <th>journey_month</th>\n",
              "      <th>Dep_Time_hour</th>\n",
              "      <th>Dep_Time_min</th>\n",
              "      <th>Arrival_Time_hour</th>\n",
              "      <th>Arrival_Time_min</th>\n",
              "      <th>Duration_hours</th>\n",
              "      <th>Duration_min</th>\n",
              "    </tr>\n",
              "  </thead>\n",
              "  <tbody>\n",
              "    <tr>\n",
              "      <th>0</th>\n",
              "      <td>IndiGo</td>\n",
              "      <td>Banglore</td>\n",
              "      <td>New Delhi</td>\n",
              "      <td>BLR → DEL</td>\n",
              "      <td>2h 50m</td>\n",
              "      <td>non-stop</td>\n",
              "      <td>No info</td>\n",
              "      <td>3897</td>\n",
              "      <td>24</td>\n",
              "      <td>3</td>\n",
              "      <td>22</td>\n",
              "      <td>20</td>\n",
              "      <td>1</td>\n",
              "      <td>10</td>\n",
              "      <td>2</td>\n",
              "      <td>50</td>\n",
              "    </tr>\n",
              "    <tr>\n",
              "      <th>1</th>\n",
              "      <td>Air India</td>\n",
              "      <td>Kolkata</td>\n",
              "      <td>Banglore</td>\n",
              "      <td>CCU → IXR → BBI → BLR</td>\n",
              "      <td>7h 25m</td>\n",
              "      <td>2 stops</td>\n",
              "      <td>No info</td>\n",
              "      <td>7662</td>\n",
              "      <td>5</td>\n",
              "      <td>1</td>\n",
              "      <td>5</td>\n",
              "      <td>50</td>\n",
              "      <td>13</td>\n",
              "      <td>15</td>\n",
              "      <td>7</td>\n",
              "      <td>25</td>\n",
              "    </tr>\n",
              "    <tr>\n",
              "      <th>2</th>\n",
              "      <td>Jet Airways</td>\n",
              "      <td>Delhi</td>\n",
              "      <td>Cochin</td>\n",
              "      <td>DEL → LKO → BOM → COK</td>\n",
              "      <td>19h 0m</td>\n",
              "      <td>2 stops</td>\n",
              "      <td>No info</td>\n",
              "      <td>13882</td>\n",
              "      <td>6</td>\n",
              "      <td>9</td>\n",
              "      <td>9</td>\n",
              "      <td>25</td>\n",
              "      <td>4</td>\n",
              "      <td>25</td>\n",
              "      <td>19</td>\n",
              "      <td>0</td>\n",
              "    </tr>\n",
              "    <tr>\n",
              "      <th>3</th>\n",
              "      <td>IndiGo</td>\n",
              "      <td>Kolkata</td>\n",
              "      <td>Banglore</td>\n",
              "      <td>CCU → NAG → BLR</td>\n",
              "      <td>5h 25m</td>\n",
              "      <td>1 stop</td>\n",
              "      <td>No info</td>\n",
              "      <td>6218</td>\n",
              "      <td>5</td>\n",
              "      <td>12</td>\n",
              "      <td>18</td>\n",
              "      <td>5</td>\n",
              "      <td>23</td>\n",
              "      <td>30</td>\n",
              "      <td>5</td>\n",
              "      <td>25</td>\n",
              "    </tr>\n",
              "    <tr>\n",
              "      <th>4</th>\n",
              "      <td>IndiGo</td>\n",
              "      <td>Banglore</td>\n",
              "      <td>New Delhi</td>\n",
              "      <td>BLR → NAG → DEL</td>\n",
              "      <td>4h 45m</td>\n",
              "      <td>1 stop</td>\n",
              "      <td>No info</td>\n",
              "      <td>13302</td>\n",
              "      <td>3</td>\n",
              "      <td>1</td>\n",
              "      <td>16</td>\n",
              "      <td>50</td>\n",
              "      <td>21</td>\n",
              "      <td>35</td>\n",
              "      <td>4</td>\n",
              "      <td>45</td>\n",
              "    </tr>\n",
              "  </tbody>\n",
              "</table>\n",
              "</div>"
            ],
            "text/plain": [
              "       Airline    Source  ... Duration_hours Duration_min\n",
              "0       IndiGo  Banglore  ...              2           50\n",
              "1    Air India   Kolkata  ...              7           25\n",
              "2  Jet Airways     Delhi  ...             19            0\n",
              "3       IndiGo   Kolkata  ...              5           25\n",
              "4       IndiGo  Banglore  ...              4           45\n",
              "\n",
              "[5 rows x 16 columns]"
            ]
          },
          "metadata": {
            "tags": []
          },
          "execution_count": 194
        }
      ]
    },
    {
      "cell_type": "code",
      "metadata": {
        "id": "Bhkg1HkCvv3O"
      },
      "source": [
        "df1.drop('Duration',axis=1,inplace=True)"
      ],
      "execution_count": 195,
      "outputs": []
    },
    {
      "cell_type": "code",
      "metadata": {
        "colab": {
          "base_uri": "https://localhost:8080/"
        },
        "id": "TYDpzNzGvv0t",
        "outputId": "2658a01b-602d-4a6d-be90-a536cfaee520"
      },
      "source": [
        "df1.dtypes"
      ],
      "execution_count": 196,
      "outputs": [
        {
          "output_type": "execute_result",
          "data": {
            "text/plain": [
              "Airline              object\n",
              "Source               object\n",
              "Destination          object\n",
              "Route                object\n",
              "Total_Stops          object\n",
              "Additional_Info      object\n",
              "Price                 int64\n",
              "journey_day           int64\n",
              "journey_month         int64\n",
              "Dep_Time_hour         int64\n",
              "Dep_Time_min          int64\n",
              "Arrival_Time_hour     int64\n",
              "Arrival_Time_min      int64\n",
              "Duration_hours       object\n",
              "Duration_min         object\n",
              "dtype: object"
            ]
          },
          "metadata": {
            "tags": []
          },
          "execution_count": 196
        }
      ]
    },
    {
      "cell_type": "code",
      "metadata": {
        "id": "KiPp8hJlvvyl"
      },
      "source": [
        "df1['Duration_hours']= df1['Duration_hours'].astype(int)\n",
        "df1['Duration_min']= df1['Duration_min'].astype(int)"
      ],
      "execution_count": 197,
      "outputs": []
    },
    {
      "cell_type": "code",
      "metadata": {
        "colab": {
          "base_uri": "https://localhost:8080/"
        },
        "id": "myH9oRvnvvuL",
        "outputId": "bf7da7a1-6214-42cb-8102-5910ff72b675"
      },
      "source": [
        "df1.dtypes"
      ],
      "execution_count": 198,
      "outputs": [
        {
          "output_type": "execute_result",
          "data": {
            "text/plain": [
              "Airline              object\n",
              "Source               object\n",
              "Destination          object\n",
              "Route                object\n",
              "Total_Stops          object\n",
              "Additional_Info      object\n",
              "Price                 int64\n",
              "journey_day           int64\n",
              "journey_month         int64\n",
              "Dep_Time_hour         int64\n",
              "Dep_Time_min          int64\n",
              "Arrival_Time_hour     int64\n",
              "Arrival_Time_min      int64\n",
              "Duration_hours        int64\n",
              "Duration_min          int64\n",
              "dtype: object"
            ]
          },
          "metadata": {
            "tags": []
          },
          "execution_count": 198
        }
      ]
    },
    {
      "cell_type": "code",
      "metadata": {
        "colab": {
          "base_uri": "https://localhost:8080/",
          "height": 585
        },
        "id": "6ahahrP4vvrv",
        "outputId": "f82200ff-9497-4ded-97e9-d66e354f25fd"
      },
      "source": [
        "df1.head()"
      ],
      "execution_count": 199,
      "outputs": [
        {
          "output_type": "execute_result",
          "data": {
            "text/html": [
              "<div>\n",
              "<style scoped>\n",
              "    .dataframe tbody tr th:only-of-type {\n",
              "        vertical-align: middle;\n",
              "    }\n",
              "\n",
              "    .dataframe tbody tr th {\n",
              "        vertical-align: top;\n",
              "    }\n",
              "\n",
              "    .dataframe thead th {\n",
              "        text-align: right;\n",
              "    }\n",
              "</style>\n",
              "<table border=\"1\" class=\"dataframe\">\n",
              "  <thead>\n",
              "    <tr style=\"text-align: right;\">\n",
              "      <th></th>\n",
              "      <th>Airline</th>\n",
              "      <th>Source</th>\n",
              "      <th>Destination</th>\n",
              "      <th>Route</th>\n",
              "      <th>Total_Stops</th>\n",
              "      <th>Additional_Info</th>\n",
              "      <th>Price</th>\n",
              "      <th>journey_day</th>\n",
              "      <th>journey_month</th>\n",
              "      <th>Dep_Time_hour</th>\n",
              "      <th>Dep_Time_min</th>\n",
              "      <th>Arrival_Time_hour</th>\n",
              "      <th>Arrival_Time_min</th>\n",
              "      <th>Duration_hours</th>\n",
              "      <th>Duration_min</th>\n",
              "    </tr>\n",
              "  </thead>\n",
              "  <tbody>\n",
              "    <tr>\n",
              "      <th>0</th>\n",
              "      <td>IndiGo</td>\n",
              "      <td>Banglore</td>\n",
              "      <td>New Delhi</td>\n",
              "      <td>BLR → DEL</td>\n",
              "      <td>non-stop</td>\n",
              "      <td>No info</td>\n",
              "      <td>3897</td>\n",
              "      <td>24</td>\n",
              "      <td>3</td>\n",
              "      <td>22</td>\n",
              "      <td>20</td>\n",
              "      <td>1</td>\n",
              "      <td>10</td>\n",
              "      <td>2</td>\n",
              "      <td>50</td>\n",
              "    </tr>\n",
              "    <tr>\n",
              "      <th>1</th>\n",
              "      <td>Air India</td>\n",
              "      <td>Kolkata</td>\n",
              "      <td>Banglore</td>\n",
              "      <td>CCU → IXR → BBI → BLR</td>\n",
              "      <td>2 stops</td>\n",
              "      <td>No info</td>\n",
              "      <td>7662</td>\n",
              "      <td>5</td>\n",
              "      <td>1</td>\n",
              "      <td>5</td>\n",
              "      <td>50</td>\n",
              "      <td>13</td>\n",
              "      <td>15</td>\n",
              "      <td>7</td>\n",
              "      <td>25</td>\n",
              "    </tr>\n",
              "    <tr>\n",
              "      <th>2</th>\n",
              "      <td>Jet Airways</td>\n",
              "      <td>Delhi</td>\n",
              "      <td>Cochin</td>\n",
              "      <td>DEL → LKO → BOM → COK</td>\n",
              "      <td>2 stops</td>\n",
              "      <td>No info</td>\n",
              "      <td>13882</td>\n",
              "      <td>6</td>\n",
              "      <td>9</td>\n",
              "      <td>9</td>\n",
              "      <td>25</td>\n",
              "      <td>4</td>\n",
              "      <td>25</td>\n",
              "      <td>19</td>\n",
              "      <td>0</td>\n",
              "    </tr>\n",
              "    <tr>\n",
              "      <th>3</th>\n",
              "      <td>IndiGo</td>\n",
              "      <td>Kolkata</td>\n",
              "      <td>Banglore</td>\n",
              "      <td>CCU → NAG → BLR</td>\n",
              "      <td>1 stop</td>\n",
              "      <td>No info</td>\n",
              "      <td>6218</td>\n",
              "      <td>5</td>\n",
              "      <td>12</td>\n",
              "      <td>18</td>\n",
              "      <td>5</td>\n",
              "      <td>23</td>\n",
              "      <td>30</td>\n",
              "      <td>5</td>\n",
              "      <td>25</td>\n",
              "    </tr>\n",
              "    <tr>\n",
              "      <th>4</th>\n",
              "      <td>IndiGo</td>\n",
              "      <td>Banglore</td>\n",
              "      <td>New Delhi</td>\n",
              "      <td>BLR → NAG → DEL</td>\n",
              "      <td>1 stop</td>\n",
              "      <td>No info</td>\n",
              "      <td>13302</td>\n",
              "      <td>3</td>\n",
              "      <td>1</td>\n",
              "      <td>16</td>\n",
              "      <td>50</td>\n",
              "      <td>21</td>\n",
              "      <td>35</td>\n",
              "      <td>4</td>\n",
              "      <td>45</td>\n",
              "    </tr>\n",
              "  </tbody>\n",
              "</table>\n",
              "</div>"
            ],
            "text/plain": [
              "       Airline    Source  ... Duration_hours Duration_min\n",
              "0       IndiGo  Banglore  ...              2           50\n",
              "1    Air India   Kolkata  ...              7           25\n",
              "2  Jet Airways     Delhi  ...             19            0\n",
              "3       IndiGo   Kolkata  ...              5           25\n",
              "4       IndiGo  Banglore  ...              4           45\n",
              "\n",
              "[5 rows x 15 columns]"
            ]
          },
          "metadata": {
            "tags": []
          },
          "execution_count": 199
        }
      ]
    },
    {
      "cell_type": "markdown",
      "metadata": {
        "id": "keC7lVfpw0ZJ"
      },
      "source": [
        "Extracting Categorical Columns"
      ]
    },
    {
      "cell_type": "code",
      "metadata": {
        "colab": {
          "base_uri": "https://localhost:8080/"
        },
        "id": "tUpK3zpkvvpW",
        "outputId": "d3833ae7-1d6d-488a-92ae-671cf35ca72b"
      },
      "source": [
        "cat_col=[x for x in df1.columns if df1[x].dtype=='object']\n",
        "cat_col"
      ],
      "execution_count": 200,
      "outputs": [
        {
          "output_type": "execute_result",
          "data": {
            "text/plain": [
              "['Airline', 'Source', 'Destination', 'Route', 'Total_Stops', 'Additional_Info']"
            ]
          },
          "metadata": {
            "tags": []
          },
          "execution_count": 200
        }
      ]
    },
    {
      "cell_type": "markdown",
      "metadata": {
        "id": "3Uclq0MkxkmR"
      },
      "source": [
        "Extracting Continuous Columns"
      ]
    },
    {
      "cell_type": "code",
      "metadata": {
        "colab": {
          "base_uri": "https://localhost:8080/"
        },
        "id": "yWq5_A11vvnM",
        "outputId": "3c1dd8d7-5210-4d1e-c885-7543933edbe2"
      },
      "source": [
        "cont_col=[x for x in df1.columns if x not in cat_col]\n",
        "cont_col"
      ],
      "execution_count": 201,
      "outputs": [
        {
          "output_type": "execute_result",
          "data": {
            "text/plain": [
              "['Price',\n",
              " 'journey_day',\n",
              " 'journey_month',\n",
              " 'Dep_Time_hour',\n",
              " 'Dep_Time_min',\n",
              " 'Arrival_Time_hour',\n",
              " 'Arrival_Time_min',\n",
              " 'Duration_hours',\n",
              " 'Duration_min']"
            ]
          },
          "metadata": {
            "tags": []
          },
          "execution_count": 201
        }
      ]
    },
    {
      "cell_type": "markdown",
      "metadata": {
        "id": "1d4N5-wLyV9R"
      },
      "source": [
        "NUmber of Categories in Each Categorical Data"
      ]
    },
    {
      "cell_type": "code",
      "metadata": {
        "colab": {
          "base_uri": "https://localhost:8080/"
        },
        "id": "xYqpWZN_vvk9",
        "outputId": "9c692582-7473-4469-cccd-e6ccae3e03c2"
      },
      "source": [
        "for x in cat_col:\n",
        "    print('--------------------------')\n",
        "    print(x)\n",
        "    print('--------------------------')\n",
        "    print(df1[x].value_counts())"
      ],
      "execution_count": 202,
      "outputs": [
        {
          "output_type": "stream",
          "text": [
            "--------------------------\n",
            "Airline\n",
            "--------------------------\n",
            "Jet Airways                          3849\n",
            "IndiGo                               2053\n",
            "Air India                            1751\n",
            "Multiple carriers                    1196\n",
            "SpiceJet                              818\n",
            "Vistara                               479\n",
            "Air Asia                              319\n",
            "GoAir                                 194\n",
            "Multiple carriers Premium economy      13\n",
            "Jet Airways Business                    6\n",
            "Vistara Premium economy                 3\n",
            "Trujet                                  1\n",
            "Name: Airline, dtype: int64\n",
            "--------------------------\n",
            "Source\n",
            "--------------------------\n",
            "Delhi       4536\n",
            "Kolkata     2871\n",
            "Banglore    2197\n",
            "Mumbai       697\n",
            "Chennai      381\n",
            "Name: Source, dtype: int64\n",
            "--------------------------\n",
            "Destination\n",
            "--------------------------\n",
            "Cochin       4536\n",
            "Banglore     2871\n",
            "Delhi        1265\n",
            "New Delhi     932\n",
            "Hyderabad     697\n",
            "Kolkata       381\n",
            "Name: Destination, dtype: int64\n",
            "--------------------------\n",
            "Route\n",
            "--------------------------\n",
            "DEL → BOM → COK                2376\n",
            "BLR → DEL                      1552\n",
            "CCU → BOM → BLR                 979\n",
            "CCU → BLR                       724\n",
            "BOM → HYD                       621\n",
            "                               ... \n",
            "BOM → UDR → DEL → HYD             1\n",
            "BOM → VNS → DEL → HYD             1\n",
            "BLR → HBX → BOM → NAG → DEL       1\n",
            "BLR → HBX → BOM → AMD → DEL       1\n",
            "BOM → NDC → HYD                   1\n",
            "Name: Route, Length: 128, dtype: int64\n",
            "--------------------------\n",
            "Total_Stops\n",
            "--------------------------\n",
            "1 stop      5625\n",
            "non-stop    3491\n",
            "2 stops     1520\n",
            "3 stops       45\n",
            "4 stops        1\n",
            "Name: Total_Stops, dtype: int64\n",
            "--------------------------\n",
            "Additional_Info\n",
            "--------------------------\n",
            "No info                         8344\n",
            "In-flight meal not included     1982\n",
            "No check-in baggage included     320\n",
            "1 Long layover                    19\n",
            "Change airports                    7\n",
            "Business class                     4\n",
            "No Info                            3\n",
            "1 Short layover                    1\n",
            "2 Long layover                     1\n",
            "Red-eye flight                     1\n",
            "Name: Additional_Info, dtype: int64\n"
          ],
          "name": "stdout"
        }
      ]
    },
    {
      "cell_type": "code",
      "metadata": {
        "colab": {
          "base_uri": "https://localhost:8080/",
          "height": 1000
        },
        "id": "QbKP0GJevvh8",
        "outputId": "94a2a431-fe77-4022-de89-92ac2b0eeee3"
      },
      "source": [
        "for col in['Airline','Source','Destination','Total_Stops']:\n",
        "    plt.figure(figsize=(17,8))\n",
        "    sns.boxplot(x=col, y='Price',data=df1.sort_values('Price',ascending=False))\n",
        "    plt.show()"
      ],
      "execution_count": 203,
      "outputs": [
        {
          "output_type": "display_data",
          "data": {
            "image/png": "[encoded data removed]",
            "text/plain": [
              "<Figure size 1224x576 with 1 Axes>"
            ]
          },
          "metadata": {
            "tags": [],
            "needs_background": "light"
          }
        },
        {
          "output_type": "display_data",
          "data": {
            "image/png": "[encoded data removed]",
            "text/plain": [
              "<Figure size 1224x576 with 1 Axes>"
            ]
          },
          "metadata": {
            "tags": [],
            "needs_background": "light"
          }
        },
        {
          "output_type": "display_data",
          "data": {
            "image/png": "[encoded data removed]",
            "text/plain": [
              "<Figure size 1224x576 with 1 Axes>"
            ]
          },
          "metadata": {
            "tags": [],
            "needs_background": "light"
          }
        },
        {
          "output_type": "display_data",
          "data": {
            "image/png": "[encoded data removed]",
            "text/plain": [
              "<Figure size 1224x576 with 1 Axes>"
            ]
          },
          "metadata": {
            "tags": [],
            "needs_background": "light"
          }
        }
      ]
    },
    {
      "cell_type": "markdown",
      "metadata": {
        "id": "KQBUCwdV0ZWl"
      },
      "source": [
        "# Converting Categorical Data into Numerical Data"
      ]
    },
    {
      "cell_type": "code",
      "metadata": {
        "id": "HrCaJT8_1QQ7"
      },
      "source": [
        "df2=df1.copy()"
      ],
      "execution_count": 204,
      "outputs": []
    },
    {
      "cell_type": "code",
      "metadata": {
        "colab": {
          "base_uri": "https://localhost:8080/"
        },
        "id": "r7KgDEAjvvf7",
        "outputId": "3a838312-b0aa-46c8-be03-9055c664cf1b"
      },
      "source": [
        "df1['Airline'].value_counts()"
      ],
      "execution_count": 205,
      "outputs": [
        {
          "output_type": "execute_result",
          "data": {
            "text/plain": [
              "Jet Airways                          3849\n",
              "IndiGo                               2053\n",
              "Air India                            1751\n",
              "Multiple carriers                    1196\n",
              "SpiceJet                              818\n",
              "Vistara                               479\n",
              "Air Asia                              319\n",
              "GoAir                                 194\n",
              "Multiple carriers Premium economy      13\n",
              "Jet Airways Business                    6\n",
              "Vistara Premium economy                 3\n",
              "Trujet                                  1\n",
              "Name: Airline, dtype: int64"
            ]
          },
          "metadata": {
            "tags": []
          },
          "execution_count": 205
        }
      ]
    },
    {
      "cell_type": "markdown",
      "metadata": {
        "id": "AvQNe3Bh1FR4"
      },
      "source": [
        "We will pick up top -8 categories for one hot encoding"
      ]
    },
    {
      "cell_type": "code",
      "metadata": {
        "colab": {
          "base_uri": "https://localhost:8080/"
        },
        "id": "qvNB67tI1OeS",
        "outputId": "0b02beca-cfa0-42f7-afc7-ecbba487c829"
      },
      "source": [
        "top_8_Airline=[x for x in df1['Airline'].value_counts().nlargest(8).index]\n",
        "top_8_Airline"
      ],
      "execution_count": 206,
      "outputs": [
        {
          "output_type": "execute_result",
          "data": {
            "text/plain": [
              "['Jet Airways',\n",
              " 'IndiGo',\n",
              " 'Air India',\n",
              " 'Multiple carriers',\n",
              " 'SpiceJet',\n",
              " 'Vistara',\n",
              " 'Air Asia',\n",
              " 'GoAir']"
            ]
          },
          "metadata": {
            "tags": []
          },
          "execution_count": 206
        }
      ]
    },
    {
      "cell_type": "code",
      "metadata": {
        "id": "Q0ELgx2Ovvc1"
      },
      "source": [
        "for col in top_8_Airline:\n",
        "    df2[col]=np.where(df2['Airline']==col,1,0)"
      ],
      "execution_count": 207,
      "outputs": []
    },
    {
      "cell_type": "code",
      "metadata": {
        "colab": {
          "base_uri": "https://localhost:8080/",
          "height": 602
        },
        "id": "hrCdL1ZEvvYn",
        "outputId": "ca30b212-3bdc-4757-b70c-41f5fd4d1e04"
      },
      "source": [
        "df2.head()"
      ],
      "execution_count": 208,
      "outputs": [
        {
          "output_type": "execute_result",
          "data": {
            "text/html": [
              "<div>\n",
              "<style scoped>\n",
              "    .dataframe tbody tr th:only-of-type {\n",
              "        vertical-align: middle;\n",
              "    }\n",
              "\n",
              "    .dataframe tbody tr th {\n",
              "        vertical-align: top;\n",
              "    }\n",
              "\n",
              "    .dataframe thead th {\n",
              "        text-align: right;\n",
              "    }\n",
              "</style>\n",
              "<table border=\"1\" class=\"dataframe\">\n",
              "  <thead>\n",
              "    <tr style=\"text-align: right;\">\n",
              "      <th></th>\n",
              "      <th>Airline</th>\n",
              "      <th>Source</th>\n",
              "      <th>Destination</th>\n",
              "      <th>Route</th>\n",
              "      <th>Total_Stops</th>\n",
              "      <th>Additional_Info</th>\n",
              "      <th>Price</th>\n",
              "      <th>journey_day</th>\n",
              "      <th>journey_month</th>\n",
              "      <th>Dep_Time_hour</th>\n",
              "      <th>Dep_Time_min</th>\n",
              "      <th>Arrival_Time_hour</th>\n",
              "      <th>Arrival_Time_min</th>\n",
              "      <th>Duration_hours</th>\n",
              "      <th>Duration_min</th>\n",
              "      <th>Jet Airways</th>\n",
              "      <th>IndiGo</th>\n",
              "      <th>Air India</th>\n",
              "      <th>Multiple carriers</th>\n",
              "      <th>SpiceJet</th>\n",
              "      <th>Vistara</th>\n",
              "      <th>Air Asia</th>\n",
              "      <th>GoAir</th>\n",
              "    </tr>\n",
              "  </thead>\n",
              "  <tbody>\n",
              "    <tr>\n",
              "      <th>0</th>\n",
              "      <td>IndiGo</td>\n",
              "      <td>Banglore</td>\n",
              "      <td>New Delhi</td>\n",
              "      <td>BLR → DEL</td>\n",
              "      <td>non-stop</td>\n",
              "      <td>No info</td>\n",
              "      <td>3897</td>\n",
              "      <td>24</td>\n",
              "      <td>3</td>\n",
              "      <td>22</td>\n",
              "      <td>20</td>\n",
              "      <td>1</td>\n",
              "      <td>10</td>\n",
              "      <td>2</td>\n",
              "      <td>50</td>\n",
              "      <td>0</td>\n",
              "      <td>1</td>\n",
              "      <td>0</td>\n",
              "      <td>0</td>\n",
              "      <td>0</td>\n",
              "      <td>0</td>\n",
              "      <td>0</td>\n",
              "      <td>0</td>\n",
              "    </tr>\n",
              "    <tr>\n",
              "      <th>1</th>\n",
              "      <td>Air India</td>\n",
              "      <td>Kolkata</td>\n",
              "      <td>Banglore</td>\n",
              "      <td>CCU → IXR → BBI → BLR</td>\n",
              "      <td>2 stops</td>\n",
              "      <td>No info</td>\n",
              "      <td>7662</td>\n",
              "      <td>5</td>\n",
              "      <td>1</td>\n",
              "      <td>5</td>\n",
              "      <td>50</td>\n",
              "      <td>13</td>\n",
              "      <td>15</td>\n",
              "      <td>7</td>\n",
              "      <td>25</td>\n",
              "      <td>0</td>\n",
              "      <td>0</td>\n",
              "      <td>1</td>\n",
              "      <td>0</td>\n",
              "      <td>0</td>\n",
              "      <td>0</td>\n",
              "      <td>0</td>\n",
              "      <td>0</td>\n",
              "    </tr>\n",
              "    <tr>\n",
              "      <th>2</th>\n",
              "      <td>Jet Airways</td>\n",
              "      <td>Delhi</td>\n",
              "      <td>Cochin</td>\n",
              "      <td>DEL → LKO → BOM → COK</td>\n",
              "      <td>2 stops</td>\n",
              "      <td>No info</td>\n",
              "      <td>13882</td>\n",
              "      <td>6</td>\n",
              "      <td>9</td>\n",
              "      <td>9</td>\n",
              "      <td>25</td>\n",
              "      <td>4</td>\n",
              "      <td>25</td>\n",
              "      <td>19</td>\n",
              "      <td>0</td>\n",
              "      <td>1</td>\n",
              "      <td>0</td>\n",
              "      <td>0</td>\n",
              "      <td>0</td>\n",
              "      <td>0</td>\n",
              "      <td>0</td>\n",
              "      <td>0</td>\n",
              "      <td>0</td>\n",
              "    </tr>\n",
              "    <tr>\n",
              "      <th>3</th>\n",
              "      <td>IndiGo</td>\n",
              "      <td>Kolkata</td>\n",
              "      <td>Banglore</td>\n",
              "      <td>CCU → NAG → BLR</td>\n",
              "      <td>1 stop</td>\n",
              "      <td>No info</td>\n",
              "      <td>6218</td>\n",
              "      <td>5</td>\n",
              "      <td>12</td>\n",
              "      <td>18</td>\n",
              "      <td>5</td>\n",
              "      <td>23</td>\n",
              "      <td>30</td>\n",
              "      <td>5</td>\n",
              "      <td>25</td>\n",
              "      <td>0</td>\n",
              "      <td>1</td>\n",
              "      <td>0</td>\n",
              "      <td>0</td>\n",
              "      <td>0</td>\n",
              "      <td>0</td>\n",
              "      <td>0</td>\n",
              "      <td>0</td>\n",
              "    </tr>\n",
              "    <tr>\n",
              "      <th>4</th>\n",
              "      <td>IndiGo</td>\n",
              "      <td>Banglore</td>\n",
              "      <td>New Delhi</td>\n",
              "      <td>BLR → NAG → DEL</td>\n",
              "      <td>1 stop</td>\n",
              "      <td>No info</td>\n",
              "      <td>13302</td>\n",
              "      <td>3</td>\n",
              "      <td>1</td>\n",
              "      <td>16</td>\n",
              "      <td>50</td>\n",
              "      <td>21</td>\n",
              "      <td>35</td>\n",
              "      <td>4</td>\n",
              "      <td>45</td>\n",
              "      <td>0</td>\n",
              "      <td>1</td>\n",
              "      <td>0</td>\n",
              "      <td>0</td>\n",
              "      <td>0</td>\n",
              "      <td>0</td>\n",
              "      <td>0</td>\n",
              "      <td>0</td>\n",
              "    </tr>\n",
              "  </tbody>\n",
              "</table>\n",
              "</div>"
            ],
            "text/plain": [
              "       Airline    Source Destination  ... Vistara Air Asia GoAir\n",
              "0       IndiGo  Banglore   New Delhi  ...       0        0     0\n",
              "1    Air India   Kolkata    Banglore  ...       0        0     0\n",
              "2  Jet Airways     Delhi      Cochin  ...       0        0     0\n",
              "3       IndiGo   Kolkata    Banglore  ...       0        0     0\n",
              "4       IndiGo  Banglore   New Delhi  ...       0        0     0\n",
              "\n",
              "[5 rows x 23 columns]"
            ]
          },
          "metadata": {
            "tags": []
          },
          "execution_count": 208
        }
      ]
    },
    {
      "cell_type": "markdown",
      "metadata": {
        "id": "5r_jn7q_3edK"
      },
      "source": [
        "Perform One hot encoding in Destination and Source Columns"
      ]
    },
    {
      "cell_type": "code",
      "metadata": {
        "id": "5IzjZJiNvvWl"
      },
      "source": [
        "df2=pd.get_dummies(df2,columns=['Destination','Source'],drop_first=True)"
      ],
      "execution_count": 209,
      "outputs": []
    },
    {
      "cell_type": "code",
      "metadata": {
        "colab": {
          "base_uri": "https://localhost:8080/",
          "height": 602
        },
        "id": "kqmR4uWpvvUX",
        "outputId": "95e8d8cc-a0de-453c-a336-b45a50e8d131"
      },
      "source": [
        "df2.head()"
      ],
      "execution_count": 210,
      "outputs": [
        {
          "output_type": "execute_result",
          "data": {
            "text/html": [
              "<div>\n",
              "<style scoped>\n",
              "    .dataframe tbody tr th:only-of-type {\n",
              "        vertical-align: middle;\n",
              "    }\n",
              "\n",
              "    .dataframe tbody tr th {\n",
              "        vertical-align: top;\n",
              "    }\n",
              "\n",
              "    .dataframe thead th {\n",
              "        text-align: right;\n",
              "    }\n",
              "</style>\n",
              "<table border=\"1\" class=\"dataframe\">\n",
              "  <thead>\n",
              "    <tr style=\"text-align: right;\">\n",
              "      <th></th>\n",
              "      <th>Airline</th>\n",
              "      <th>Route</th>\n",
              "      <th>Total_Stops</th>\n",
              "      <th>Additional_Info</th>\n",
              "      <th>Price</th>\n",
              "      <th>journey_day</th>\n",
              "      <th>journey_month</th>\n",
              "      <th>Dep_Time_hour</th>\n",
              "      <th>Dep_Time_min</th>\n",
              "      <th>Arrival_Time_hour</th>\n",
              "      <th>Arrival_Time_min</th>\n",
              "      <th>Duration_hours</th>\n",
              "      <th>Duration_min</th>\n",
              "      <th>Jet Airways</th>\n",
              "      <th>IndiGo</th>\n",
              "      <th>Air India</th>\n",
              "      <th>Multiple carriers</th>\n",
              "      <th>SpiceJet</th>\n",
              "      <th>Vistara</th>\n",
              "      <th>Air Asia</th>\n",
              "      <th>GoAir</th>\n",
              "      <th>Destination_Cochin</th>\n",
              "      <th>Destination_Delhi</th>\n",
              "      <th>Destination_Hyderabad</th>\n",
              "      <th>Destination_Kolkata</th>\n",
              "      <th>Destination_New Delhi</th>\n",
              "      <th>Source_Chennai</th>\n",
              "      <th>Source_Delhi</th>\n",
              "      <th>Source_Kolkata</th>\n",
              "      <th>Source_Mumbai</th>\n",
              "    </tr>\n",
              "  </thead>\n",
              "  <tbody>\n",
              "    <tr>\n",
              "      <th>0</th>\n",
              "      <td>IndiGo</td>\n",
              "      <td>BLR → DEL</td>\n",
              "      <td>non-stop</td>\n",
              "      <td>No info</td>\n",
              "      <td>3897</td>\n",
              "      <td>24</td>\n",
              "      <td>3</td>\n",
              "      <td>22</td>\n",
              "      <td>20</td>\n",
              "      <td>1</td>\n",
              "      <td>10</td>\n",
              "      <td>2</td>\n",
              "      <td>50</td>\n",
              "      <td>0</td>\n",
              "      <td>1</td>\n",
              "      <td>0</td>\n",
              "      <td>0</td>\n",
              "      <td>0</td>\n",
              "      <td>0</td>\n",
              "      <td>0</td>\n",
              "      <td>0</td>\n",
              "      <td>0</td>\n",
              "      <td>0</td>\n",
              "      <td>0</td>\n",
              "      <td>0</td>\n",
              "      <td>1</td>\n",
              "      <td>0</td>\n",
              "      <td>0</td>\n",
              "      <td>0</td>\n",
              "      <td>0</td>\n",
              "    </tr>\n",
              "    <tr>\n",
              "      <th>1</th>\n",
              "      <td>Air India</td>\n",
              "      <td>CCU → IXR → BBI → BLR</td>\n",
              "      <td>2 stops</td>\n",
              "      <td>No info</td>\n",
              "      <td>7662</td>\n",
              "      <td>5</td>\n",
              "      <td>1</td>\n",
              "      <td>5</td>\n",
              "      <td>50</td>\n",
              "      <td>13</td>\n",
              "      <td>15</td>\n",
              "      <td>7</td>\n",
              "      <td>25</td>\n",
              "      <td>0</td>\n",
              "      <td>0</td>\n",
              "      <td>1</td>\n",
              "      <td>0</td>\n",
              "      <td>0</td>\n",
              "      <td>0</td>\n",
              "      <td>0</td>\n",
              "      <td>0</td>\n",
              "      <td>0</td>\n",
              "      <td>0</td>\n",
              "      <td>0</td>\n",
              "      <td>0</td>\n",
              "      <td>0</td>\n",
              "      <td>0</td>\n",
              "      <td>0</td>\n",
              "      <td>1</td>\n",
              "      <td>0</td>\n",
              "    </tr>\n",
              "    <tr>\n",
              "      <th>2</th>\n",
              "      <td>Jet Airways</td>\n",
              "      <td>DEL → LKO → BOM → COK</td>\n",
              "      <td>2 stops</td>\n",
              "      <td>No info</td>\n",
              "      <td>13882</td>\n",
              "      <td>6</td>\n",
              "      <td>9</td>\n",
              "      <td>9</td>\n",
              "      <td>25</td>\n",
              "      <td>4</td>\n",
              "      <td>25</td>\n",
              "      <td>19</td>\n",
              "      <td>0</td>\n",
              "      <td>1</td>\n",
              "      <td>0</td>\n",
              "      <td>0</td>\n",
              "      <td>0</td>\n",
              "      <td>0</td>\n",
              "      <td>0</td>\n",
              "      <td>0</td>\n",
              "      <td>0</td>\n",
              "      <td>1</td>\n",
              "      <td>0</td>\n",
              "      <td>0</td>\n",
              "      <td>0</td>\n",
              "      <td>0</td>\n",
              "      <td>0</td>\n",
              "      <td>1</td>\n",
              "      <td>0</td>\n",
              "      <td>0</td>\n",
              "    </tr>\n",
              "    <tr>\n",
              "      <th>3</th>\n",
              "      <td>IndiGo</td>\n",
              "      <td>CCU → NAG → BLR</td>\n",
              "      <td>1 stop</td>\n",
              "      <td>No info</td>\n",
              "      <td>6218</td>\n",
              "      <td>5</td>\n",
              "      <td>12</td>\n",
              "      <td>18</td>\n",
              "      <td>5</td>\n",
              "      <td>23</td>\n",
              "      <td>30</td>\n",
              "      <td>5</td>\n",
              "      <td>25</td>\n",
              "      <td>0</td>\n",
              "      <td>1</td>\n",
              "      <td>0</td>\n",
              "      <td>0</td>\n",
              "      <td>0</td>\n",
              "      <td>0</td>\n",
              "      <td>0</td>\n",
              "      <td>0</td>\n",
              "      <td>0</td>\n",
              "      <td>0</td>\n",
              "      <td>0</td>\n",
              "      <td>0</td>\n",
              "      <td>0</td>\n",
              "      <td>0</td>\n",
              "      <td>0</td>\n",
              "      <td>1</td>\n",
              "      <td>0</td>\n",
              "    </tr>\n",
              "    <tr>\n",
              "      <th>4</th>\n",
              "      <td>IndiGo</td>\n",
              "      <td>BLR → NAG → DEL</td>\n",
              "      <td>1 stop</td>\n",
              "      <td>No info</td>\n",
              "      <td>13302</td>\n",
              "      <td>3</td>\n",
              "      <td>1</td>\n",
              "      <td>16</td>\n",
              "      <td>50</td>\n",
              "      <td>21</td>\n",
              "      <td>35</td>\n",
              "      <td>4</td>\n",
              "      <td>45</td>\n",
              "      <td>0</td>\n",
              "      <td>1</td>\n",
              "      <td>0</td>\n",
              "      <td>0</td>\n",
              "      <td>0</td>\n",
              "      <td>0</td>\n",
              "      <td>0</td>\n",
              "      <td>0</td>\n",
              "      <td>0</td>\n",
              "      <td>0</td>\n",
              "      <td>0</td>\n",
              "      <td>0</td>\n",
              "      <td>1</td>\n",
              "      <td>0</td>\n",
              "      <td>0</td>\n",
              "      <td>0</td>\n",
              "      <td>0</td>\n",
              "    </tr>\n",
              "  </tbody>\n",
              "</table>\n",
              "</div>"
            ],
            "text/plain": [
              "       Airline                  Route  ... Source_Kolkata Source_Mumbai\n",
              "0       IndiGo              BLR → DEL  ...              0             0\n",
              "1    Air India  CCU → IXR → BBI → BLR  ...              1             0\n",
              "2  Jet Airways  DEL → LKO → BOM → COK  ...              0             0\n",
              "3       IndiGo        CCU → NAG → BLR  ...              1             0\n",
              "4       IndiGo        BLR → NAG → DEL  ...              0             0\n",
              "\n",
              "[5 rows x 30 columns]"
            ]
          },
          "metadata": {
            "tags": []
          },
          "execution_count": 210
        }
      ]
    },
    {
      "cell_type": "code",
      "metadata": {
        "id": "wdzE8LTa8rb1"
      },
      "source": [
        "df3=df2.drop('Route',axis=1)"
      ],
      "execution_count": 211,
      "outputs": []
    },
    {
      "cell_type": "code",
      "metadata": {
        "colab": {
          "base_uri": "https://localhost:8080/",
          "height": 249
        },
        "id": "Ilf3UYcv5M2x",
        "outputId": "31e6faee-b1bd-40dd-c219-0eac3c352cfa"
      },
      "source": [
        "df3.head()"
      ],
      "execution_count": 212,
      "outputs": [
        {
          "output_type": "execute_result",
          "data": {
            "text/html": [
              "<div>\n",
              "<style scoped>\n",
              "    .dataframe tbody tr th:only-of-type {\n",
              "        vertical-align: middle;\n",
              "    }\n",
              "\n",
              "    .dataframe tbody tr th {\n",
              "        vertical-align: top;\n",
              "    }\n",
              "\n",
              "    .dataframe thead th {\n",
              "        text-align: right;\n",
              "    }\n",
              "</style>\n",
              "<table border=\"1\" class=\"dataframe\">\n",
              "  <thead>\n",
              "    <tr style=\"text-align: right;\">\n",
              "      <th></th>\n",
              "      <th>Airline</th>\n",
              "      <th>Total_Stops</th>\n",
              "      <th>Additional_Info</th>\n",
              "      <th>Price</th>\n",
              "      <th>journey_day</th>\n",
              "      <th>journey_month</th>\n",
              "      <th>Dep_Time_hour</th>\n",
              "      <th>Dep_Time_min</th>\n",
              "      <th>Arrival_Time_hour</th>\n",
              "      <th>Arrival_Time_min</th>\n",
              "      <th>Duration_hours</th>\n",
              "      <th>Duration_min</th>\n",
              "      <th>Jet Airways</th>\n",
              "      <th>IndiGo</th>\n",
              "      <th>Air India</th>\n",
              "      <th>Multiple carriers</th>\n",
              "      <th>SpiceJet</th>\n",
              "      <th>Vistara</th>\n",
              "      <th>Air Asia</th>\n",
              "      <th>GoAir</th>\n",
              "      <th>Destination_Cochin</th>\n",
              "      <th>Destination_Delhi</th>\n",
              "      <th>Destination_Hyderabad</th>\n",
              "      <th>Destination_Kolkata</th>\n",
              "      <th>Destination_New Delhi</th>\n",
              "      <th>Source_Chennai</th>\n",
              "      <th>Source_Delhi</th>\n",
              "      <th>Source_Kolkata</th>\n",
              "      <th>Source_Mumbai</th>\n",
              "    </tr>\n",
              "  </thead>\n",
              "  <tbody>\n",
              "    <tr>\n",
              "      <th>0</th>\n",
              "      <td>IndiGo</td>\n",
              "      <td>non-stop</td>\n",
              "      <td>No info</td>\n",
              "      <td>3897</td>\n",
              "      <td>24</td>\n",
              "      <td>3</td>\n",
              "      <td>22</td>\n",
              "      <td>20</td>\n",
              "      <td>1</td>\n",
              "      <td>10</td>\n",
              "      <td>2</td>\n",
              "      <td>50</td>\n",
              "      <td>0</td>\n",
              "      <td>1</td>\n",
              "      <td>0</td>\n",
              "      <td>0</td>\n",
              "      <td>0</td>\n",
              "      <td>0</td>\n",
              "      <td>0</td>\n",
              "      <td>0</td>\n",
              "      <td>0</td>\n",
              "      <td>0</td>\n",
              "      <td>0</td>\n",
              "      <td>0</td>\n",
              "      <td>1</td>\n",
              "      <td>0</td>\n",
              "      <td>0</td>\n",
              "      <td>0</td>\n",
              "      <td>0</td>\n",
              "    </tr>\n",
              "    <tr>\n",
              "      <th>1</th>\n",
              "      <td>Air India</td>\n",
              "      <td>2 stops</td>\n",
              "      <td>No info</td>\n",
              "      <td>7662</td>\n",
              "      <td>5</td>\n",
              "      <td>1</td>\n",
              "      <td>5</td>\n",
              "      <td>50</td>\n",
              "      <td>13</td>\n",
              "      <td>15</td>\n",
              "      <td>7</td>\n",
              "      <td>25</td>\n",
              "      <td>0</td>\n",
              "      <td>0</td>\n",
              "      <td>1</td>\n",
              "      <td>0</td>\n",
              "      <td>0</td>\n",
              "      <td>0</td>\n",
              "      <td>0</td>\n",
              "      <td>0</td>\n",
              "      <td>0</td>\n",
              "      <td>0</td>\n",
              "      <td>0</td>\n",
              "      <td>0</td>\n",
              "      <td>0</td>\n",
              "      <td>0</td>\n",
              "      <td>0</td>\n",
              "      <td>1</td>\n",
              "      <td>0</td>\n",
              "    </tr>\n",
              "    <tr>\n",
              "      <th>2</th>\n",
              "      <td>Jet Airways</td>\n",
              "      <td>2 stops</td>\n",
              "      <td>No info</td>\n",
              "      <td>13882</td>\n",
              "      <td>6</td>\n",
              "      <td>9</td>\n",
              "      <td>9</td>\n",
              "      <td>25</td>\n",
              "      <td>4</td>\n",
              "      <td>25</td>\n",
              "      <td>19</td>\n",
              "      <td>0</td>\n",
              "      <td>1</td>\n",
              "      <td>0</td>\n",
              "      <td>0</td>\n",
              "      <td>0</td>\n",
              "      <td>0</td>\n",
              "      <td>0</td>\n",
              "      <td>0</td>\n",
              "      <td>0</td>\n",
              "      <td>1</td>\n",
              "      <td>0</td>\n",
              "      <td>0</td>\n",
              "      <td>0</td>\n",
              "      <td>0</td>\n",
              "      <td>0</td>\n",
              "      <td>1</td>\n",
              "      <td>0</td>\n",
              "      <td>0</td>\n",
              "    </tr>\n",
              "    <tr>\n",
              "      <th>3</th>\n",
              "      <td>IndiGo</td>\n",
              "      <td>1 stop</td>\n",
              "      <td>No info</td>\n",
              "      <td>6218</td>\n",
              "      <td>5</td>\n",
              "      <td>12</td>\n",
              "      <td>18</td>\n",
              "      <td>5</td>\n",
              "      <td>23</td>\n",
              "      <td>30</td>\n",
              "      <td>5</td>\n",
              "      <td>25</td>\n",
              "      <td>0</td>\n",
              "      <td>1</td>\n",
              "      <td>0</td>\n",
              "      <td>0</td>\n",
              "      <td>0</td>\n",
              "      <td>0</td>\n",
              "      <td>0</td>\n",
              "      <td>0</td>\n",
              "      <td>0</td>\n",
              "      <td>0</td>\n",
              "      <td>0</td>\n",
              "      <td>0</td>\n",
              "      <td>0</td>\n",
              "      <td>0</td>\n",
              "      <td>0</td>\n",
              "      <td>1</td>\n",
              "      <td>0</td>\n",
              "    </tr>\n",
              "    <tr>\n",
              "      <th>4</th>\n",
              "      <td>IndiGo</td>\n",
              "      <td>1 stop</td>\n",
              "      <td>No info</td>\n",
              "      <td>13302</td>\n",
              "      <td>3</td>\n",
              "      <td>1</td>\n",
              "      <td>16</td>\n",
              "      <td>50</td>\n",
              "      <td>21</td>\n",
              "      <td>35</td>\n",
              "      <td>4</td>\n",
              "      <td>45</td>\n",
              "      <td>0</td>\n",
              "      <td>1</td>\n",
              "      <td>0</td>\n",
              "      <td>0</td>\n",
              "      <td>0</td>\n",
              "      <td>0</td>\n",
              "      <td>0</td>\n",
              "      <td>0</td>\n",
              "      <td>0</td>\n",
              "      <td>0</td>\n",
              "      <td>0</td>\n",
              "      <td>0</td>\n",
              "      <td>1</td>\n",
              "      <td>0</td>\n",
              "      <td>0</td>\n",
              "      <td>0</td>\n",
              "      <td>0</td>\n",
              "    </tr>\n",
              "  </tbody>\n",
              "</table>\n",
              "</div>"
            ],
            "text/plain": [
              "       Airline Total_Stops  ... Source_Kolkata  Source_Mumbai\n",
              "0       IndiGo    non-stop  ...              0              0\n",
              "1    Air India     2 stops  ...              1              0\n",
              "2  Jet Airways     2 stops  ...              0              0\n",
              "3       IndiGo      1 stop  ...              1              0\n",
              "4       IndiGo      1 stop  ...              0              0\n",
              "\n",
              "[5 rows x 29 columns]"
            ]
          },
          "metadata": {
            "tags": []
          },
          "execution_count": 212
        }
      ]
    },
    {
      "cell_type": "markdown",
      "metadata": {
        "id": "36LUTUGo-Mro"
      },
      "source": [
        "Number of Categories in Each Route Column"
      ]
    },
    {
      "cell_type": "code",
      "metadata": {
        "colab": {
          "base_uri": "https://localhost:8080/"
        },
        "id": "N9ypDYjB9QKh",
        "outputId": "c8f03a0b-47c7-4635-89eb-3bce2c3be831"
      },
      "source": [
        "df3.columns"
      ],
      "execution_count": 213,
      "outputs": [
        {
          "output_type": "execute_result",
          "data": {
            "text/plain": [
              "Index(['Airline', 'Total_Stops', 'Additional_Info', 'Price', 'journey_day',\n",
              "       'journey_month', 'Dep_Time_hour', 'Dep_Time_min', 'Arrival_Time_hour',\n",
              "       'Arrival_Time_min', 'Duration_hours', 'Duration_min', 'Jet Airways',\n",
              "       'IndiGo', 'Air India', 'Multiple carriers', 'SpiceJet', 'Vistara',\n",
              "       'Air Asia', 'GoAir', 'Destination_Cochin', 'Destination_Delhi',\n",
              "       'Destination_Hyderabad', 'Destination_Kolkata', 'Destination_New Delhi',\n",
              "       'Source_Chennai', 'Source_Delhi', 'Source_Kolkata', 'Source_Mumbai'],\n",
              "      dtype='object')"
            ]
          },
          "metadata": {
            "tags": []
          },
          "execution_count": 213
        }
      ]
    },
    {
      "cell_type": "markdown",
      "metadata": {
        "id": "6BbNpOay_42w"
      },
      "source": [
        "Deleting Unwanted Columns"
      ]
    },
    {
      "cell_type": "code",
      "metadata": {
        "colab": {
          "base_uri": "https://localhost:8080/"
        },
        "id": "BczIOzTtAbat",
        "outputId": "54740b29-51d4-4812-a0dd-38f69b3a2a21"
      },
      "source": [
        "df3['Total_Stops'].unique()"
      ],
      "execution_count": 214,
      "outputs": [
        {
          "output_type": "execute_result",
          "data": {
            "text/plain": [
              "array(['non-stop', '2 stops', '1 stop', '3 stops', '4 stops'],\n",
              "      dtype=object)"
            ]
          },
          "metadata": {
            "tags": []
          },
          "execution_count": 214
        }
      ]
    },
    {
      "cell_type": "code",
      "metadata": {
        "id": "skBfrJrPAfQw"
      },
      "source": [
        "Stops={'non-stop':0, '2 stops':2, '1 stop':1, '3 stops':3, '4 stops':4}"
      ],
      "execution_count": 215,
      "outputs": []
    },
    {
      "cell_type": "code",
      "metadata": {
        "id": "i0hk7_BSAtNg"
      },
      "source": [
        "df3['Total_Stops']=df3['Total_Stops'].map(Stops)"
      ],
      "execution_count": 216,
      "outputs": []
    },
    {
      "cell_type": "code",
      "metadata": {
        "colab": {
          "base_uri": "https://localhost:8080/",
          "height": 249
        },
        "id": "1Wb36vggBHOo",
        "outputId": "325af2b3-d653-40e8-e845-daf242734a67"
      },
      "source": [
        "df3.head()"
      ],
      "execution_count": 217,
      "outputs": [
        {
          "output_type": "execute_result",
          "data": {
            "text/html": [
              "<div>\n",
              "<style scoped>\n",
              "    .dataframe tbody tr th:only-of-type {\n",
              "        vertical-align: middle;\n",
              "    }\n",
              "\n",
              "    .dataframe tbody tr th {\n",
              "        vertical-align: top;\n",
              "    }\n",
              "\n",
              "    .dataframe thead th {\n",
              "        text-align: right;\n",
              "    }\n",
              "</style>\n",
              "<table border=\"1\" class=\"dataframe\">\n",
              "  <thead>\n",
              "    <tr style=\"text-align: right;\">\n",
              "      <th></th>\n",
              "      <th>Airline</th>\n",
              "      <th>Total_Stops</th>\n",
              "      <th>Additional_Info</th>\n",
              "      <th>Price</th>\n",
              "      <th>journey_day</th>\n",
              "      <th>journey_month</th>\n",
              "      <th>Dep_Time_hour</th>\n",
              "      <th>Dep_Time_min</th>\n",
              "      <th>Arrival_Time_hour</th>\n",
              "      <th>Arrival_Time_min</th>\n",
              "      <th>Duration_hours</th>\n",
              "      <th>Duration_min</th>\n",
              "      <th>Jet Airways</th>\n",
              "      <th>IndiGo</th>\n",
              "      <th>Air India</th>\n",
              "      <th>Multiple carriers</th>\n",
              "      <th>SpiceJet</th>\n",
              "      <th>Vistara</th>\n",
              "      <th>Air Asia</th>\n",
              "      <th>GoAir</th>\n",
              "      <th>Destination_Cochin</th>\n",
              "      <th>Destination_Delhi</th>\n",
              "      <th>Destination_Hyderabad</th>\n",
              "      <th>Destination_Kolkata</th>\n",
              "      <th>Destination_New Delhi</th>\n",
              "      <th>Source_Chennai</th>\n",
              "      <th>Source_Delhi</th>\n",
              "      <th>Source_Kolkata</th>\n",
              "      <th>Source_Mumbai</th>\n",
              "    </tr>\n",
              "  </thead>\n",
              "  <tbody>\n",
              "    <tr>\n",
              "      <th>0</th>\n",
              "      <td>IndiGo</td>\n",
              "      <td>0</td>\n",
              "      <td>No info</td>\n",
              "      <td>3897</td>\n",
              "      <td>24</td>\n",
              "      <td>3</td>\n",
              "      <td>22</td>\n",
              "      <td>20</td>\n",
              "      <td>1</td>\n",
              "      <td>10</td>\n",
              "      <td>2</td>\n",
              "      <td>50</td>\n",
              "      <td>0</td>\n",
              "      <td>1</td>\n",
              "      <td>0</td>\n",
              "      <td>0</td>\n",
              "      <td>0</td>\n",
              "      <td>0</td>\n",
              "      <td>0</td>\n",
              "      <td>0</td>\n",
              "      <td>0</td>\n",
              "      <td>0</td>\n",
              "      <td>0</td>\n",
              "      <td>0</td>\n",
              "      <td>1</td>\n",
              "      <td>0</td>\n",
              "      <td>0</td>\n",
              "      <td>0</td>\n",
              "      <td>0</td>\n",
              "    </tr>\n",
              "    <tr>\n",
              "      <th>1</th>\n",
              "      <td>Air India</td>\n",
              "      <td>2</td>\n",
              "      <td>No info</td>\n",
              "      <td>7662</td>\n",
              "      <td>5</td>\n",
              "      <td>1</td>\n",
              "      <td>5</td>\n",
              "      <td>50</td>\n",
              "      <td>13</td>\n",
              "      <td>15</td>\n",
              "      <td>7</td>\n",
              "      <td>25</td>\n",
              "      <td>0</td>\n",
              "      <td>0</td>\n",
              "      <td>1</td>\n",
              "      <td>0</td>\n",
              "      <td>0</td>\n",
              "      <td>0</td>\n",
              "      <td>0</td>\n",
              "      <td>0</td>\n",
              "      <td>0</td>\n",
              "      <td>0</td>\n",
              "      <td>0</td>\n",
              "      <td>0</td>\n",
              "      <td>0</td>\n",
              "      <td>0</td>\n",
              "      <td>0</td>\n",
              "      <td>1</td>\n",
              "      <td>0</td>\n",
              "    </tr>\n",
              "    <tr>\n",
              "      <th>2</th>\n",
              "      <td>Jet Airways</td>\n",
              "      <td>2</td>\n",
              "      <td>No info</td>\n",
              "      <td>13882</td>\n",
              "      <td>6</td>\n",
              "      <td>9</td>\n",
              "      <td>9</td>\n",
              "      <td>25</td>\n",
              "      <td>4</td>\n",
              "      <td>25</td>\n",
              "      <td>19</td>\n",
              "      <td>0</td>\n",
              "      <td>1</td>\n",
              "      <td>0</td>\n",
              "      <td>0</td>\n",
              "      <td>0</td>\n",
              "      <td>0</td>\n",
              "      <td>0</td>\n",
              "      <td>0</td>\n",
              "      <td>0</td>\n",
              "      <td>1</td>\n",
              "      <td>0</td>\n",
              "      <td>0</td>\n",
              "      <td>0</td>\n",
              "      <td>0</td>\n",
              "      <td>0</td>\n",
              "      <td>1</td>\n",
              "      <td>0</td>\n",
              "      <td>0</td>\n",
              "    </tr>\n",
              "    <tr>\n",
              "      <th>3</th>\n",
              "      <td>IndiGo</td>\n",
              "      <td>1</td>\n",
              "      <td>No info</td>\n",
              "      <td>6218</td>\n",
              "      <td>5</td>\n",
              "      <td>12</td>\n",
              "      <td>18</td>\n",
              "      <td>5</td>\n",
              "      <td>23</td>\n",
              "      <td>30</td>\n",
              "      <td>5</td>\n",
              "      <td>25</td>\n",
              "      <td>0</td>\n",
              "      <td>1</td>\n",
              "      <td>0</td>\n",
              "      <td>0</td>\n",
              "      <td>0</td>\n",
              "      <td>0</td>\n",
              "      <td>0</td>\n",
              "      <td>0</td>\n",
              "      <td>0</td>\n",
              "      <td>0</td>\n",
              "      <td>0</td>\n",
              "      <td>0</td>\n",
              "      <td>0</td>\n",
              "      <td>0</td>\n",
              "      <td>0</td>\n",
              "      <td>1</td>\n",
              "      <td>0</td>\n",
              "    </tr>\n",
              "    <tr>\n",
              "      <th>4</th>\n",
              "      <td>IndiGo</td>\n",
              "      <td>1</td>\n",
              "      <td>No info</td>\n",
              "      <td>13302</td>\n",
              "      <td>3</td>\n",
              "      <td>1</td>\n",
              "      <td>16</td>\n",
              "      <td>50</td>\n",
              "      <td>21</td>\n",
              "      <td>35</td>\n",
              "      <td>4</td>\n",
              "      <td>45</td>\n",
              "      <td>0</td>\n",
              "      <td>1</td>\n",
              "      <td>0</td>\n",
              "      <td>0</td>\n",
              "      <td>0</td>\n",
              "      <td>0</td>\n",
              "      <td>0</td>\n",
              "      <td>0</td>\n",
              "      <td>0</td>\n",
              "      <td>0</td>\n",
              "      <td>0</td>\n",
              "      <td>0</td>\n",
              "      <td>1</td>\n",
              "      <td>0</td>\n",
              "      <td>0</td>\n",
              "      <td>0</td>\n",
              "      <td>0</td>\n",
              "    </tr>\n",
              "  </tbody>\n",
              "</table>\n",
              "</div>"
            ],
            "text/plain": [
              "       Airline  Total_Stops  ... Source_Kolkata  Source_Mumbai\n",
              "0       IndiGo            0  ...              0              0\n",
              "1    Air India            2  ...              1              0\n",
              "2  Jet Airways            2  ...              0              0\n",
              "3       IndiGo            1  ...              1              0\n",
              "4       IndiGo            1  ...              0              0\n",
              "\n",
              "[5 rows x 29 columns]"
            ]
          },
          "metadata": {
            "tags": []
          },
          "execution_count": 217
        }
      ]
    },
    {
      "cell_type": "code",
      "metadata": {
        "id": "4xMFZF-t-52n"
      },
      "source": [
        "df3.drop(['Airline', 'Additional_Info'],axis=1,inplace=True)"
      ],
      "execution_count": 218,
      "outputs": []
    },
    {
      "cell_type": "code",
      "metadata": {
        "colab": {
          "base_uri": "https://localhost:8080/",
          "height": 232
        },
        "id": "VUyFHdL--5zu",
        "outputId": "19a9dce3-c146-4456-f5da-895714f4df0e"
      },
      "source": [
        "df3.head()"
      ],
      "execution_count": 219,
      "outputs": [
        {
          "output_type": "execute_result",
          "data": {
            "text/html": [
              "<div>\n",
              "<style scoped>\n",
              "    .dataframe tbody tr th:only-of-type {\n",
              "        vertical-align: middle;\n",
              "    }\n",
              "\n",
              "    .dataframe tbody tr th {\n",
              "        vertical-align: top;\n",
              "    }\n",
              "\n",
              "    .dataframe thead th {\n",
              "        text-align: right;\n",
              "    }\n",
              "</style>\n",
              "<table border=\"1\" class=\"dataframe\">\n",
              "  <thead>\n",
              "    <tr style=\"text-align: right;\">\n",
              "      <th></th>\n",
              "      <th>Total_Stops</th>\n",
              "      <th>Price</th>\n",
              "      <th>journey_day</th>\n",
              "      <th>journey_month</th>\n",
              "      <th>Dep_Time_hour</th>\n",
              "      <th>Dep_Time_min</th>\n",
              "      <th>Arrival_Time_hour</th>\n",
              "      <th>Arrival_Time_min</th>\n",
              "      <th>Duration_hours</th>\n",
              "      <th>Duration_min</th>\n",
              "      <th>Jet Airways</th>\n",
              "      <th>IndiGo</th>\n",
              "      <th>Air India</th>\n",
              "      <th>Multiple carriers</th>\n",
              "      <th>SpiceJet</th>\n",
              "      <th>Vistara</th>\n",
              "      <th>Air Asia</th>\n",
              "      <th>GoAir</th>\n",
              "      <th>Destination_Cochin</th>\n",
              "      <th>Destination_Delhi</th>\n",
              "      <th>Destination_Hyderabad</th>\n",
              "      <th>Destination_Kolkata</th>\n",
              "      <th>Destination_New Delhi</th>\n",
              "      <th>Source_Chennai</th>\n",
              "      <th>Source_Delhi</th>\n",
              "      <th>Source_Kolkata</th>\n",
              "      <th>Source_Mumbai</th>\n",
              "    </tr>\n",
              "  </thead>\n",
              "  <tbody>\n",
              "    <tr>\n",
              "      <th>0</th>\n",
              "      <td>0</td>\n",
              "      <td>3897</td>\n",
              "      <td>24</td>\n",
              "      <td>3</td>\n",
              "      <td>22</td>\n",
              "      <td>20</td>\n",
              "      <td>1</td>\n",
              "      <td>10</td>\n",
              "      <td>2</td>\n",
              "      <td>50</td>\n",
              "      <td>0</td>\n",
              "      <td>1</td>\n",
              "      <td>0</td>\n",
              "      <td>0</td>\n",
              "      <td>0</td>\n",
              "      <td>0</td>\n",
              "      <td>0</td>\n",
              "      <td>0</td>\n",
              "      <td>0</td>\n",
              "      <td>0</td>\n",
              "      <td>0</td>\n",
              "      <td>0</td>\n",
              "      <td>1</td>\n",
              "      <td>0</td>\n",
              "      <td>0</td>\n",
              "      <td>0</td>\n",
              "      <td>0</td>\n",
              "    </tr>\n",
              "    <tr>\n",
              "      <th>1</th>\n",
              "      <td>2</td>\n",
              "      <td>7662</td>\n",
              "      <td>5</td>\n",
              "      <td>1</td>\n",
              "      <td>5</td>\n",
              "      <td>50</td>\n",
              "      <td>13</td>\n",
              "      <td>15</td>\n",
              "      <td>7</td>\n",
              "      <td>25</td>\n",
              "      <td>0</td>\n",
              "      <td>0</td>\n",
              "      <td>1</td>\n",
              "      <td>0</td>\n",
              "      <td>0</td>\n",
              "      <td>0</td>\n",
              "      <td>0</td>\n",
              "      <td>0</td>\n",
              "      <td>0</td>\n",
              "      <td>0</td>\n",
              "      <td>0</td>\n",
              "      <td>0</td>\n",
              "      <td>0</td>\n",
              "      <td>0</td>\n",
              "      <td>0</td>\n",
              "      <td>1</td>\n",
              "      <td>0</td>\n",
              "    </tr>\n",
              "    <tr>\n",
              "      <th>2</th>\n",
              "      <td>2</td>\n",
              "      <td>13882</td>\n",
              "      <td>6</td>\n",
              "      <td>9</td>\n",
              "      <td>9</td>\n",
              "      <td>25</td>\n",
              "      <td>4</td>\n",
              "      <td>25</td>\n",
              "      <td>19</td>\n",
              "      <td>0</td>\n",
              "      <td>1</td>\n",
              "      <td>0</td>\n",
              "      <td>0</td>\n",
              "      <td>0</td>\n",
              "      <td>0</td>\n",
              "      <td>0</td>\n",
              "      <td>0</td>\n",
              "      <td>0</td>\n",
              "      <td>1</td>\n",
              "      <td>0</td>\n",
              "      <td>0</td>\n",
              "      <td>0</td>\n",
              "      <td>0</td>\n",
              "      <td>0</td>\n",
              "      <td>1</td>\n",
              "      <td>0</td>\n",
              "      <td>0</td>\n",
              "    </tr>\n",
              "    <tr>\n",
              "      <th>3</th>\n",
              "      <td>1</td>\n",
              "      <td>6218</td>\n",
              "      <td>5</td>\n",
              "      <td>12</td>\n",
              "      <td>18</td>\n",
              "      <td>5</td>\n",
              "      <td>23</td>\n",
              "      <td>30</td>\n",
              "      <td>5</td>\n",
              "      <td>25</td>\n",
              "      <td>0</td>\n",
              "      <td>1</td>\n",
              "      <td>0</td>\n",
              "      <td>0</td>\n",
              "      <td>0</td>\n",
              "      <td>0</td>\n",
              "      <td>0</td>\n",
              "      <td>0</td>\n",
              "      <td>0</td>\n",
              "      <td>0</td>\n",
              "      <td>0</td>\n",
              "      <td>0</td>\n",
              "      <td>0</td>\n",
              "      <td>0</td>\n",
              "      <td>0</td>\n",
              "      <td>1</td>\n",
              "      <td>0</td>\n",
              "    </tr>\n",
              "    <tr>\n",
              "      <th>4</th>\n",
              "      <td>1</td>\n",
              "      <td>13302</td>\n",
              "      <td>3</td>\n",
              "      <td>1</td>\n",
              "      <td>16</td>\n",
              "      <td>50</td>\n",
              "      <td>21</td>\n",
              "      <td>35</td>\n",
              "      <td>4</td>\n",
              "      <td>45</td>\n",
              "      <td>0</td>\n",
              "      <td>1</td>\n",
              "      <td>0</td>\n",
              "      <td>0</td>\n",
              "      <td>0</td>\n",
              "      <td>0</td>\n",
              "      <td>0</td>\n",
              "      <td>0</td>\n",
              "      <td>0</td>\n",
              "      <td>0</td>\n",
              "      <td>0</td>\n",
              "      <td>0</td>\n",
              "      <td>1</td>\n",
              "      <td>0</td>\n",
              "      <td>0</td>\n",
              "      <td>0</td>\n",
              "      <td>0</td>\n",
              "    </tr>\n",
              "  </tbody>\n",
              "</table>\n",
              "</div>"
            ],
            "text/plain": [
              "   Total_Stops  Price  journey_day  ...  Source_Delhi  Source_Kolkata  Source_Mumbai\n",
              "0            0   3897           24  ...             0               0              0\n",
              "1            2   7662            5  ...             0               1              0\n",
              "2            2  13882            6  ...             1               0              0\n",
              "3            1   6218            5  ...             0               1              0\n",
              "4            1  13302            3  ...             0               0              0\n",
              "\n",
              "[5 rows x 27 columns]"
            ]
          },
          "metadata": {
            "tags": []
          },
          "execution_count": 219
        }
      ]
    },
    {
      "cell_type": "code",
      "metadata": {
        "colab": {
          "base_uri": "https://localhost:8080/"
        },
        "id": "yp7zzM-M-5xQ",
        "outputId": "bd4c0d7a-e462-45bb-e848-04e3d51788bc"
      },
      "source": [
        "df3.shape"
      ],
      "execution_count": 220,
      "outputs": [
        {
          "output_type": "execute_result",
          "data": {
            "text/plain": [
              "(10682, 27)"
            ]
          },
          "metadata": {
            "tags": []
          },
          "execution_count": 220
        }
      ]
    },
    {
      "cell_type": "code",
      "metadata": {
        "colab": {
          "base_uri": "https://localhost:8080/"
        },
        "id": "FshdABgUCfBz",
        "outputId": "4978c144-500d-4c84-faf8-ecc330e99b7f"
      },
      "source": [
        "df3.dtypes"
      ],
      "execution_count": 221,
      "outputs": [
        {
          "output_type": "execute_result",
          "data": {
            "text/plain": [
              "Total_Stops              int64\n",
              "Price                    int64\n",
              "journey_day              int64\n",
              "journey_month            int64\n",
              "Dep_Time_hour            int64\n",
              "Dep_Time_min             int64\n",
              "Arrival_Time_hour        int64\n",
              "Arrival_Time_min         int64\n",
              "Duration_hours           int64\n",
              "Duration_min             int64\n",
              "Jet Airways              int64\n",
              "IndiGo                   int64\n",
              "Air India                int64\n",
              "Multiple carriers        int64\n",
              "SpiceJet                 int64\n",
              "Vistara                  int64\n",
              "Air Asia                 int64\n",
              "GoAir                    int64\n",
              "Destination_Cochin       uint8\n",
              "Destination_Delhi        uint8\n",
              "Destination_Hyderabad    uint8\n",
              "Destination_Kolkata      uint8\n",
              "Destination_New Delhi    uint8\n",
              "Source_Chennai           uint8\n",
              "Source_Delhi             uint8\n",
              "Source_Kolkata           uint8\n",
              "Source_Mumbai            uint8\n",
              "dtype: object"
            ]
          },
          "metadata": {
            "tags": []
          },
          "execution_count": 221
        }
      ]
    },
    {
      "cell_type": "code",
      "metadata": {
        "id": "MafubFwICFok"
      },
      "source": [
        "df4=df3.copy()"
      ],
      "execution_count": 222,
      "outputs": []
    },
    {
      "cell_type": "code",
      "metadata": {
        "colab": {
          "base_uri": "https://localhost:8080/",
          "height": 232
        },
        "id": "2d6ZlztEIzZv",
        "outputId": "48e75fc8-4b0b-4149-9aa4-52ac7a42fc66"
      },
      "source": [
        "df4.head()"
      ],
      "execution_count": 223,
      "outputs": [
        {
          "output_type": "execute_result",
          "data": {
            "text/html": [
              "<div>\n",
              "<style scoped>\n",
              "    .dataframe tbody tr th:only-of-type {\n",
              "        vertical-align: middle;\n",
              "    }\n",
              "\n",
              "    .dataframe tbody tr th {\n",
              "        vertical-align: top;\n",
              "    }\n",
              "\n",
              "    .dataframe thead th {\n",
              "        text-align: right;\n",
              "    }\n",
              "</style>\n",
              "<table border=\"1\" class=\"dataframe\">\n",
              "  <thead>\n",
              "    <tr style=\"text-align: right;\">\n",
              "      <th></th>\n",
              "      <th>Total_Stops</th>\n",
              "      <th>Price</th>\n",
              "      <th>journey_day</th>\n",
              "      <th>journey_month</th>\n",
              "      <th>Dep_Time_hour</th>\n",
              "      <th>Dep_Time_min</th>\n",
              "      <th>Arrival_Time_hour</th>\n",
              "      <th>Arrival_Time_min</th>\n",
              "      <th>Duration_hours</th>\n",
              "      <th>Duration_min</th>\n",
              "      <th>Jet Airways</th>\n",
              "      <th>IndiGo</th>\n",
              "      <th>Air India</th>\n",
              "      <th>Multiple carriers</th>\n",
              "      <th>SpiceJet</th>\n",
              "      <th>Vistara</th>\n",
              "      <th>Air Asia</th>\n",
              "      <th>GoAir</th>\n",
              "      <th>Destination_Cochin</th>\n",
              "      <th>Destination_Delhi</th>\n",
              "      <th>Destination_Hyderabad</th>\n",
              "      <th>Destination_Kolkata</th>\n",
              "      <th>Destination_New Delhi</th>\n",
              "      <th>Source_Chennai</th>\n",
              "      <th>Source_Delhi</th>\n",
              "      <th>Source_Kolkata</th>\n",
              "      <th>Source_Mumbai</th>\n",
              "    </tr>\n",
              "  </thead>\n",
              "  <tbody>\n",
              "    <tr>\n",
              "      <th>0</th>\n",
              "      <td>0</td>\n",
              "      <td>3897</td>\n",
              "      <td>24</td>\n",
              "      <td>3</td>\n",
              "      <td>22</td>\n",
              "      <td>20</td>\n",
              "      <td>1</td>\n",
              "      <td>10</td>\n",
              "      <td>2</td>\n",
              "      <td>50</td>\n",
              "      <td>0</td>\n",
              "      <td>1</td>\n",
              "      <td>0</td>\n",
              "      <td>0</td>\n",
              "      <td>0</td>\n",
              "      <td>0</td>\n",
              "      <td>0</td>\n",
              "      <td>0</td>\n",
              "      <td>0</td>\n",
              "      <td>0</td>\n",
              "      <td>0</td>\n",
              "      <td>0</td>\n",
              "      <td>1</td>\n",
              "      <td>0</td>\n",
              "      <td>0</td>\n",
              "      <td>0</td>\n",
              "      <td>0</td>\n",
              "    </tr>\n",
              "    <tr>\n",
              "      <th>1</th>\n",
              "      <td>2</td>\n",
              "      <td>7662</td>\n",
              "      <td>5</td>\n",
              "      <td>1</td>\n",
              "      <td>5</td>\n",
              "      <td>50</td>\n",
              "      <td>13</td>\n",
              "      <td>15</td>\n",
              "      <td>7</td>\n",
              "      <td>25</td>\n",
              "      <td>0</td>\n",
              "      <td>0</td>\n",
              "      <td>1</td>\n",
              "      <td>0</td>\n",
              "      <td>0</td>\n",
              "      <td>0</td>\n",
              "      <td>0</td>\n",
              "      <td>0</td>\n",
              "      <td>0</td>\n",
              "      <td>0</td>\n",
              "      <td>0</td>\n",
              "      <td>0</td>\n",
              "      <td>0</td>\n",
              "      <td>0</td>\n",
              "      <td>0</td>\n",
              "      <td>1</td>\n",
              "      <td>0</td>\n",
              "    </tr>\n",
              "    <tr>\n",
              "      <th>2</th>\n",
              "      <td>2</td>\n",
              "      <td>13882</td>\n",
              "      <td>6</td>\n",
              "      <td>9</td>\n",
              "      <td>9</td>\n",
              "      <td>25</td>\n",
              "      <td>4</td>\n",
              "      <td>25</td>\n",
              "      <td>19</td>\n",
              "      <td>0</td>\n",
              "      <td>1</td>\n",
              "      <td>0</td>\n",
              "      <td>0</td>\n",
              "      <td>0</td>\n",
              "      <td>0</td>\n",
              "      <td>0</td>\n",
              "      <td>0</td>\n",
              "      <td>0</td>\n",
              "      <td>1</td>\n",
              "      <td>0</td>\n",
              "      <td>0</td>\n",
              "      <td>0</td>\n",
              "      <td>0</td>\n",
              "      <td>0</td>\n",
              "      <td>1</td>\n",
              "      <td>0</td>\n",
              "      <td>0</td>\n",
              "    </tr>\n",
              "    <tr>\n",
              "      <th>3</th>\n",
              "      <td>1</td>\n",
              "      <td>6218</td>\n",
              "      <td>5</td>\n",
              "      <td>12</td>\n",
              "      <td>18</td>\n",
              "      <td>5</td>\n",
              "      <td>23</td>\n",
              "      <td>30</td>\n",
              "      <td>5</td>\n",
              "      <td>25</td>\n",
              "      <td>0</td>\n",
              "      <td>1</td>\n",
              "      <td>0</td>\n",
              "      <td>0</td>\n",
              "      <td>0</td>\n",
              "      <td>0</td>\n",
              "      <td>0</td>\n",
              "      <td>0</td>\n",
              "      <td>0</td>\n",
              "      <td>0</td>\n",
              "      <td>0</td>\n",
              "      <td>0</td>\n",
              "      <td>0</td>\n",
              "      <td>0</td>\n",
              "      <td>0</td>\n",
              "      <td>1</td>\n",
              "      <td>0</td>\n",
              "    </tr>\n",
              "    <tr>\n",
              "      <th>4</th>\n",
              "      <td>1</td>\n",
              "      <td>13302</td>\n",
              "      <td>3</td>\n",
              "      <td>1</td>\n",
              "      <td>16</td>\n",
              "      <td>50</td>\n",
              "      <td>21</td>\n",
              "      <td>35</td>\n",
              "      <td>4</td>\n",
              "      <td>45</td>\n",
              "      <td>0</td>\n",
              "      <td>1</td>\n",
              "      <td>0</td>\n",
              "      <td>0</td>\n",
              "      <td>0</td>\n",
              "      <td>0</td>\n",
              "      <td>0</td>\n",
              "      <td>0</td>\n",
              "      <td>0</td>\n",
              "      <td>0</td>\n",
              "      <td>0</td>\n",
              "      <td>0</td>\n",
              "      <td>1</td>\n",
              "      <td>0</td>\n",
              "      <td>0</td>\n",
              "      <td>0</td>\n",
              "      <td>0</td>\n",
              "    </tr>\n",
              "  </tbody>\n",
              "</table>\n",
              "</div>"
            ],
            "text/plain": [
              "   Total_Stops  Price  journey_day  ...  Source_Delhi  Source_Kolkata  Source_Mumbai\n",
              "0            0   3897           24  ...             0               0              0\n",
              "1            2   7662            5  ...             0               1              0\n",
              "2            2  13882            6  ...             1               0              0\n",
              "3            1   6218            5  ...             0               1              0\n",
              "4            1  13302            3  ...             0               0              0\n",
              "\n",
              "[5 rows x 27 columns]"
            ]
          },
          "metadata": {
            "tags": []
          },
          "execution_count": 223
        }
      ]
    },
    {
      "cell_type": "code",
      "metadata": {
        "colab": {
          "base_uri": "https://localhost:8080/"
        },
        "id": "6O6YkZrpCZbV",
        "outputId": "e17091fb-1a20-4bc9-85b0-716e3aa0b226"
      },
      "source": [
        "df4['Total_Stops'].unique()"
      ],
      "execution_count": 224,
      "outputs": [
        {
          "output_type": "execute_result",
          "data": {
            "text/plain": [
              "array([0, 2, 1, 3, 4])"
            ]
          },
          "metadata": {
            "tags": []
          },
          "execution_count": 224
        }
      ]
    },
    {
      "cell_type": "code",
      "metadata": {
        "id": "0D6wgbjrsjpj"
      },
      "source": [
        "df4.rename(columns={'Jet Airways':'Jet_Airways',\n",
        "                    'Air India':'Air_India',\n",
        "                    'Multiple carriers':'Multiple_carriers',\n",
        "                    'Air Asia':'Air_Asia',\n",
        "                    'Destination_New Delhi':'Destination_New_Delhi'}, inplace=True)"
      ],
      "execution_count": 226,
      "outputs": []
    },
    {
      "cell_type": "code",
      "metadata": {
        "colab": {
          "base_uri": "https://localhost:8080/",
          "height": 215
        },
        "id": "OwDArPB-t1bN",
        "outputId": "23c948af-fd3d-4656-b707-3b5058056a04"
      },
      "source": [
        "df4.head()"
      ],
      "execution_count": 227,
      "outputs": [
        {
          "output_type": "execute_result",
          "data": {
            "text/html": [
              "<div>\n",
              "<style scoped>\n",
              "    .dataframe tbody tr th:only-of-type {\n",
              "        vertical-align: middle;\n",
              "    }\n",
              "\n",
              "    .dataframe tbody tr th {\n",
              "        vertical-align: top;\n",
              "    }\n",
              "\n",
              "    .dataframe thead th {\n",
              "        text-align: right;\n",
              "    }\n",
              "</style>\n",
              "<table border=\"1\" class=\"dataframe\">\n",
              "  <thead>\n",
              "    <tr style=\"text-align: right;\">\n",
              "      <th></th>\n",
              "      <th>Total_Stops</th>\n",
              "      <th>Price</th>\n",
              "      <th>journey_day</th>\n",
              "      <th>journey_month</th>\n",
              "      <th>Dep_Time_hour</th>\n",
              "      <th>Dep_Time_min</th>\n",
              "      <th>Arrival_Time_hour</th>\n",
              "      <th>Arrival_Time_min</th>\n",
              "      <th>Duration_hours</th>\n",
              "      <th>Duration_min</th>\n",
              "      <th>Jet_Airways</th>\n",
              "      <th>IndiGo</th>\n",
              "      <th>Air_India</th>\n",
              "      <th>Multiple_carriers</th>\n",
              "      <th>SpiceJet</th>\n",
              "      <th>Vistara</th>\n",
              "      <th>Air_Asia</th>\n",
              "      <th>GoAir</th>\n",
              "      <th>Destination_Cochin</th>\n",
              "      <th>Destination_Delhi</th>\n",
              "      <th>Destination_Hyderabad</th>\n",
              "      <th>Destination_Kolkata</th>\n",
              "      <th>Destination_New_Delhi</th>\n",
              "      <th>Source_Chennai</th>\n",
              "      <th>Source_Delhi</th>\n",
              "      <th>Source_Kolkata</th>\n",
              "      <th>Source_Mumbai</th>\n",
              "    </tr>\n",
              "  </thead>\n",
              "  <tbody>\n",
              "    <tr>\n",
              "      <th>0</th>\n",
              "      <td>0</td>\n",
              "      <td>3897</td>\n",
              "      <td>24</td>\n",
              "      <td>3</td>\n",
              "      <td>22</td>\n",
              "      <td>20</td>\n",
              "      <td>1</td>\n",
              "      <td>10</td>\n",
              "      <td>2</td>\n",
              "      <td>50</td>\n",
              "      <td>0</td>\n",
              "      <td>1</td>\n",
              "      <td>0</td>\n",
              "      <td>0</td>\n",
              "      <td>0</td>\n",
              "      <td>0</td>\n",
              "      <td>0</td>\n",
              "      <td>0</td>\n",
              "      <td>0</td>\n",
              "      <td>0</td>\n",
              "      <td>0</td>\n",
              "      <td>0</td>\n",
              "      <td>1</td>\n",
              "      <td>0</td>\n",
              "      <td>0</td>\n",
              "      <td>0</td>\n",
              "      <td>0</td>\n",
              "    </tr>\n",
              "    <tr>\n",
              "      <th>1</th>\n",
              "      <td>2</td>\n",
              "      <td>7662</td>\n",
              "      <td>5</td>\n",
              "      <td>1</td>\n",
              "      <td>5</td>\n",
              "      <td>50</td>\n",
              "      <td>13</td>\n",
              "      <td>15</td>\n",
              "      <td>7</td>\n",
              "      <td>25</td>\n",
              "      <td>0</td>\n",
              "      <td>0</td>\n",
              "      <td>1</td>\n",
              "      <td>0</td>\n",
              "      <td>0</td>\n",
              "      <td>0</td>\n",
              "      <td>0</td>\n",
              "      <td>0</td>\n",
              "      <td>0</td>\n",
              "      <td>0</td>\n",
              "      <td>0</td>\n",
              "      <td>0</td>\n",
              "      <td>0</td>\n",
              "      <td>0</td>\n",
              "      <td>0</td>\n",
              "      <td>1</td>\n",
              "      <td>0</td>\n",
              "    </tr>\n",
              "    <tr>\n",
              "      <th>2</th>\n",
              "      <td>2</td>\n",
              "      <td>13882</td>\n",
              "      <td>6</td>\n",
              "      <td>9</td>\n",
              "      <td>9</td>\n",
              "      <td>25</td>\n",
              "      <td>4</td>\n",
              "      <td>25</td>\n",
              "      <td>19</td>\n",
              "      <td>0</td>\n",
              "      <td>1</td>\n",
              "      <td>0</td>\n",
              "      <td>0</td>\n",
              "      <td>0</td>\n",
              "      <td>0</td>\n",
              "      <td>0</td>\n",
              "      <td>0</td>\n",
              "      <td>0</td>\n",
              "      <td>1</td>\n",
              "      <td>0</td>\n",
              "      <td>0</td>\n",
              "      <td>0</td>\n",
              "      <td>0</td>\n",
              "      <td>0</td>\n",
              "      <td>1</td>\n",
              "      <td>0</td>\n",
              "      <td>0</td>\n",
              "    </tr>\n",
              "    <tr>\n",
              "      <th>3</th>\n",
              "      <td>1</td>\n",
              "      <td>6218</td>\n",
              "      <td>5</td>\n",
              "      <td>12</td>\n",
              "      <td>18</td>\n",
              "      <td>5</td>\n",
              "      <td>23</td>\n",
              "      <td>30</td>\n",
              "      <td>5</td>\n",
              "      <td>25</td>\n",
              "      <td>0</td>\n",
              "      <td>1</td>\n",
              "      <td>0</td>\n",
              "      <td>0</td>\n",
              "      <td>0</td>\n",
              "      <td>0</td>\n",
              "      <td>0</td>\n",
              "      <td>0</td>\n",
              "      <td>0</td>\n",
              "      <td>0</td>\n",
              "      <td>0</td>\n",
              "      <td>0</td>\n",
              "      <td>0</td>\n",
              "      <td>0</td>\n",
              "      <td>0</td>\n",
              "      <td>1</td>\n",
              "      <td>0</td>\n",
              "    </tr>\n",
              "    <tr>\n",
              "      <th>4</th>\n",
              "      <td>1</td>\n",
              "      <td>13302</td>\n",
              "      <td>3</td>\n",
              "      <td>1</td>\n",
              "      <td>16</td>\n",
              "      <td>50</td>\n",
              "      <td>21</td>\n",
              "      <td>35</td>\n",
              "      <td>4</td>\n",
              "      <td>45</td>\n",
              "      <td>0</td>\n",
              "      <td>1</td>\n",
              "      <td>0</td>\n",
              "      <td>0</td>\n",
              "      <td>0</td>\n",
              "      <td>0</td>\n",
              "      <td>0</td>\n",
              "      <td>0</td>\n",
              "      <td>0</td>\n",
              "      <td>0</td>\n",
              "      <td>0</td>\n",
              "      <td>0</td>\n",
              "      <td>1</td>\n",
              "      <td>0</td>\n",
              "      <td>0</td>\n",
              "      <td>0</td>\n",
              "      <td>0</td>\n",
              "    </tr>\n",
              "  </tbody>\n",
              "</table>\n",
              "</div>"
            ],
            "text/plain": [
              "   Total_Stops  Price  journey_day  ...  Source_Delhi  Source_Kolkata  Source_Mumbai\n",
              "0            0   3897           24  ...             0               0              0\n",
              "1            2   7662            5  ...             0               1              0\n",
              "2            2  13882            6  ...             1               0              0\n",
              "3            1   6218            5  ...             0               1              0\n",
              "4            1  13302            3  ...             0               0              0\n",
              "\n",
              "[5 rows x 27 columns]"
            ]
          },
          "metadata": {
            "tags": []
          },
          "execution_count": 227
        }
      ]
    },
    {
      "cell_type": "code",
      "metadata": {
        "colab": {
          "base_uri": "https://localhost:8080/"
        },
        "id": "jgUtpp-46i-G",
        "outputId": "301b3149-4a9a-4119-fda6-e84a8561d93e"
      },
      "source": [
        "df4.columns"
      ],
      "execution_count": 264,
      "outputs": [
        {
          "output_type": "execute_result",
          "data": {
            "text/plain": [
              "Index(['Total_Stops', 'Price', 'journey_day', 'journey_month', 'Dep_Time_hour',\n",
              "       'Dep_Time_min', 'Arrival_Time_hour', 'Arrival_Time_min',\n",
              "       'Duration_hours', 'Duration_min', 'Jet_Airways', 'IndiGo', 'Air_India',\n",
              "       'Multiple_carriers', 'SpiceJet', 'Vistara', 'Air_Asia', 'GoAir',\n",
              "       'Destination_Cochin', 'Destination_Delhi', 'Destination_Hyderabad',\n",
              "       'Destination_Kolkata', 'Destination_New_Delhi', 'Source_Chennai',\n",
              "       'Source_Delhi', 'Source_Kolkata', 'Source_Mumbai'],\n",
              "      dtype='object')"
            ]
          },
          "metadata": {
            "tags": []
          },
          "execution_count": 264
        }
      ]
    },
    {
      "cell_type": "code",
      "metadata": {
        "id": "_bBz50-Pe4cC"
      },
      "source": [
        "X=df4.drop('Price',axis=1)\n",
        "Y=df4['Price']"
      ],
      "execution_count": 228,
      "outputs": []
    },
    {
      "cell_type": "code",
      "metadata": {
        "colab": {
          "base_uri": "https://localhost:8080/"
        },
        "id": "s1Tpf1FyfvBM",
        "outputId": "332f064d-7338-4f04-e5aa-fe160a09cc6b"
      },
      "source": [
        "X.shape"
      ],
      "execution_count": 229,
      "outputs": [
        {
          "output_type": "execute_result",
          "data": {
            "text/plain": [
              "(10682, 26)"
            ]
          },
          "metadata": {
            "tags": []
          },
          "execution_count": 229
        }
      ]
    },
    {
      "cell_type": "code",
      "metadata": {
        "colab": {
          "base_uri": "https://localhost:8080/"
        },
        "id": "8Yx3QA7LgPZB",
        "outputId": "b10bc98c-d8da-4f27-c2e6-e5c12f065123"
      },
      "source": [
        "X.dtypes"
      ],
      "execution_count": 230,
      "outputs": [
        {
          "output_type": "execute_result",
          "data": {
            "text/plain": [
              "Total_Stops              int64\n",
              "journey_day              int64\n",
              "journey_month            int64\n",
              "Dep_Time_hour            int64\n",
              "Dep_Time_min             int64\n",
              "Arrival_Time_hour        int64\n",
              "Arrival_Time_min         int64\n",
              "Duration_hours           int64\n",
              "Duration_min             int64\n",
              "Jet_Airways              int64\n",
              "IndiGo                   int64\n",
              "Air_India                int64\n",
              "Multiple_carriers        int64\n",
              "SpiceJet                 int64\n",
              "Vistara                  int64\n",
              "Air_Asia                 int64\n",
              "GoAir                    int64\n",
              "Destination_Cochin       uint8\n",
              "Destination_Delhi        uint8\n",
              "Destination_Hyderabad    uint8\n",
              "Destination_Kolkata      uint8\n",
              "Destination_New_Delhi    uint8\n",
              "Source_Chennai           uint8\n",
              "Source_Delhi             uint8\n",
              "Source_Kolkata           uint8\n",
              "Source_Mumbai            uint8\n",
              "dtype: object"
            ]
          },
          "metadata": {
            "tags": []
          },
          "execution_count": 230
        }
      ]
    },
    {
      "cell_type": "code",
      "metadata": {
        "colab": {
          "base_uri": "https://localhost:8080/"
        },
        "id": "NeQlvMw7fyJG",
        "outputId": "72aacf84-a5dd-4f3c-8c27-37dd8c68d31b"
      },
      "source": [
        "Y"
      ],
      "execution_count": 231,
      "outputs": [
        {
          "output_type": "execute_result",
          "data": {
            "text/plain": [
              "0         3897\n",
              "1         7662\n",
              "2        13882\n",
              "3         6218\n",
              "4        13302\n",
              "         ...  \n",
              "10678     4107\n",
              "10679     4145\n",
              "10680     7229\n",
              "10681    12648\n",
              "10682    11753\n",
              "Name: Price, Length: 10682, dtype: int64"
            ]
          },
          "metadata": {
            "tags": []
          },
          "execution_count": 231
        }
      ]
    },
    {
      "cell_type": "code",
      "metadata": {
        "id": "rsB7ixNshl3c"
      },
      "source": [
        "from sklearn.model_selection import train_test_split\n",
        "X_train,X_test,Y_train,Y_test=train_test_split(X,Y,test_size=0.2, random_state=42)"
      ],
      "execution_count": 232,
      "outputs": []
    },
    {
      "cell_type": "code",
      "metadata": {
        "colab": {
          "base_uri": "https://localhost:8080/"
        },
        "id": "uPMf4tTJh1h0",
        "outputId": "e77ad6f2-4644-4145-c937-c62334b0743f"
      },
      "source": [
        "X_train.shape, Y_train.shape"
      ],
      "execution_count": 233,
      "outputs": [
        {
          "output_type": "execute_result",
          "data": {
            "text/plain": [
              "((8545, 26), (8545,))"
            ]
          },
          "metadata": {
            "tags": []
          },
          "execution_count": 233
        }
      ]
    },
    {
      "cell_type": "code",
      "metadata": {
        "colab": {
          "base_uri": "https://localhost:8080/"
        },
        "id": "0KvQmWAqh1as",
        "outputId": "039f1164-0ab7-4c3b-c9d1-6b7f6eff7bb2"
      },
      "source": [
        "X_test.shape,Y_test.shape"
      ],
      "execution_count": 234,
      "outputs": [
        {
          "output_type": "execute_result",
          "data": {
            "text/plain": [
              "((2137, 26), (2137,))"
            ]
          },
          "metadata": {
            "tags": []
          },
          "execution_count": 234
        }
      ]
    },
    {
      "cell_type": "code",
      "metadata": {
        "id": "dNzSM9Q8h1Wh"
      },
      "source": [
        ""
      ],
      "execution_count": 234,
      "outputs": []
    },
    {
      "cell_type": "code",
      "metadata": {
        "id": "chHSgGQwNX1p"
      },
      "source": [
        "from sklearn import metrics\n",
        "##dump your model using pickle so that we will re-use\n",
        "import pickle\n",
        "def predict(ml_model,dump):\n",
        "    model=ml_model.fit(X_train,Y_train)\n",
        "    print('Training score : {}'.format(model.score(X_train,Y_train)))\n",
        "    y_pred = model.predict(X_test)\n",
        "    \n",
        "    \n",
        "    print('predictions are: \\n {}'.format(y_pred))\n",
        "    print('\\n')\n",
        "\n",
        "    r2_score=metrics.r2_score(Y_test,y_pred)\n",
        "    print('r2 score: {}'.format(r2_score))\n",
        "    print('MAE:',metrics.mean_absolute_error( Y_test ,y_pred))\n",
        "    print('MSE:',metrics.mean_squared_error(Y_test,y_pred))\n",
        "    print('RMSE:',np.sqrt(metrics.mean_squared_error(Y_test,y_pred)))\n",
        "    sns.distplot(Y_test-y_pred)\n",
        "    plt.show()\n",
        "\n",
        "    \n",
        "    if dump==1:\n",
        "        ##dump your model using pickle so that we will re-use\n",
        "        file=open('/content/drive/MyDrive/Machine Learning Projects/4. Flight Fare Prediction/model.pkl','wb')\n",
        "        pickle.dump(model,file)"
      ],
      "execution_count": 235,
      "outputs": []
    },
    {
      "cell_type": "code",
      "metadata": {
        "id": "Ns0LopB1NXyF"
      },
      "source": [
        "from sklearn.ensemble import RandomForestRegressor"
      ],
      "execution_count": 236,
      "outputs": []
    },
    {
      "cell_type": "code",
      "metadata": {
        "colab": {
          "base_uri": "https://localhost:8080/",
          "height": 447
        },
        "id": "kpR8lFzQNXvM",
        "outputId": "5d307c83-e1da-4b69-a919-17a381114502"
      },
      "source": [
        "predict(RandomForestRegressor(),0)"
      ],
      "execution_count": 237,
      "outputs": [
        {
          "output_type": "stream",
          "text": [
            "Training score : 0.9515448996673471\n",
            "predictions are: \n",
            " [16703.29        7995.63        8886.3        ...  6682.77\n",
            " 12868.64707143 13045.98216667]\n",
            "\n",
            "\n",
            "r2 score: 0.7603403665444562\n",
            "MAE: 1234.2708485322844\n",
            "MSE: 5167554.515196403\n",
            "RMSE: 2273.2255750796935\n"
          ],
          "name": "stdout"
        },
        {
          "output_type": "display_data",
          "data": {
            "image/png": "[encoded data removed]",
            "text/plain": [
              "<Figure size 432x288 with 1 Axes>"
            ]
          },
          "metadata": {
            "tags": [],
            "needs_background": "light"
          }
        }
      ]
    },
    {
      "cell_type": "code",
      "metadata": {
        "colab": {
          "base_uri": "https://localhost:8080/",
          "height": 430
        },
        "id": "fidRuIR2NXsJ",
        "outputId": "8c4b8f63-1aab-4769-e809-ab8b7eac4079"
      },
      "source": [
        "from xgboost import XGBRegressor\n",
        "predict(XGBRegressor(),0)"
      ],
      "execution_count": 238,
      "outputs": [
        {
          "output_type": "stream",
          "text": [
            "Training score : 0.9371249759601816\n",
            "predictions are: \n",
            " [16656.633   7016.9897  8408.861  ...  6685.596  12640.561  12668.723 ]\n",
            "\n",
            "\n",
            "r2 score: 0.7969762039613061\n",
            "MAE: 1184.7854791622492\n",
            "MSE: 4377610.525331452\n",
            "RMSE: 2092.274008186177\n"
          ],
          "name": "stdout"
        },
        {
          "output_type": "display_data",
          "data": {
            "image/png": "[encoded data removed]",
            "text/plain": [
              "<Figure size 432x288 with 1 Axes>"
            ]
          },
          "metadata": {
            "tags": [],
            "needs_background": "light"
          }
        }
      ]
    },
    {
      "cell_type": "code",
      "metadata": {
        "colab": {
          "base_uri": "https://localhost:8080/",
          "height": 447
        },
        "id": "tO9OpLwXNXlY",
        "outputId": "db9215d9-76b1-41bf-956a-a2504c7a5ec8"
      },
      "source": [
        "import lightgbm as ltb\n",
        "predict(ltb.LGBMRegressor(),0)"
      ],
      "execution_count": 239,
      "outputs": [
        {
          "output_type": "stream",
          "text": [
            "Training score : 0.8709932370311827\n",
            "predictions are: \n",
            " [17547.73179883  6504.021187    9158.10104805 ...  6820.84205191\n",
            " 12067.26675426 12248.88311765]\n",
            "\n",
            "\n",
            "r2 score: 0.8200050692374712\n",
            "MAE: 1263.7430051959973\n",
            "MSE: 3881060.8351652483\n",
            "RMSE: 1970.040820685005\n"
          ],
          "name": "stdout"
        },
        {
          "output_type": "display_data",
          "data": {
            "image/png": "[encoded data removed]",
            "text/plain": [
              "<Figure size 432x288 with 1 Axes>"
            ]
          },
          "metadata": {
            "tags": [],
            "needs_background": "light"
          }
        }
      ]
    },
    {
      "cell_type": "markdown",
      "metadata": {
        "id": "6nG44WQMZCe_"
      },
      "source": [
        "# Hyperparameters"
      ]
    },
    {
      "cell_type": "code",
      "metadata": {
        "id": "UF61PZzkX6h0"
      },
      "source": [
        "from sklearn.model_selection import RandomizedSearchCV"
      ],
      "execution_count": 240,
      "outputs": []
    },
    {
      "cell_type": "code",
      "metadata": {
        "colab": {
          "base_uri": "https://localhost:8080/"
        },
        "id": "cPLGbVklX6ef",
        "outputId": "a1f00b28-ad5a-4892-f2e1-d9bdd0980c34"
      },
      "source": [
        "#LightGBMRegressor\n",
        "\n",
        "boosting_type= ['gbdt','rf']\n",
        "max_depth=[int(x) for x in np.linspace(100,1000,10)]\n",
        "learning_rate=[0.01, 0.02,0.05,0.07, 0.1,0.2,0.3]\n",
        "n_estimators=[ int(x) for x in np.linspace(100,1000,10)]\n",
        "\n",
        "grid={'boosting_type':boosting_type,\n",
        "      'max_depth':max_depth,\n",
        "      'learning_rate':learning_rate,\n",
        "      'n_estimators':n_estimators}\n",
        "grid"
      ],
      "execution_count": 251,
      "outputs": [
        {
          "output_type": "execute_result",
          "data": {
            "text/plain": [
              "{'boosting_type': ['gbdt', 'rf'],\n",
              " 'learning_rate': [0.01, 0.02, 0.05, 0.07, 0.1, 0.2, 0.3],\n",
              " 'max_depth': [100, 200, 300, 400, 500, 600, 700, 800, 900, 1000],\n",
              " 'n_estimators': [100, 200, 300, 400, 500, 600, 700, 800, 900, 1000]}"
            ]
          },
          "metadata": {
            "tags": []
          },
          "execution_count": 251
        }
      ]
    },
    {
      "cell_type": "code",
      "metadata": {
        "colab": {
          "base_uri": "https://localhost:8080/"
        },
        "id": "39-00cwdX6aq",
        "outputId": "f2b15053-68f5-4648-ee5c-76a772ace7da"
      },
      "source": [
        "lgbm_grid=RandomizedSearchCV(estimator=ltb.LGBMRegressor(), param_distributions=grid,\n",
        "                           n_iter=100,cv=3,verbose=2, n_jobs=-1)\n",
        "lgbm_grid.fit(X_train,Y_train)"
      ],
      "execution_count": 252,
      "outputs": [
        {
          "output_type": "stream",
          "text": [
            "Fitting 3 folds for each of 100 candidates, totalling 300 fits\n"
          ],
          "name": "stdout"
        },
        {
          "output_type": "stream",
          "text": [
            "[Parallel(n_jobs=-1)]: Using backend LokyBackend with 2 concurrent workers.\n",
            "[Parallel(n_jobs=-1)]: Done  56 tasks      | elapsed:   12.9s\n",
            "[Parallel(n_jobs=-1)]: Done 186 tasks      | elapsed:   55.1s\n",
            "[Parallel(n_jobs=-1)]: Done 300 out of 300 | elapsed:  1.4min finished\n"
          ],
          "name": "stderr"
        },
        {
          "output_type": "execute_result",
          "data": {
            "text/plain": [
              "RandomizedSearchCV(cv=3, estimator=LGBMRegressor(), n_iter=100, n_jobs=-1,\n",
              "                   param_distributions={'boosting_type': ['gbdt', 'rf'],\n",
              "                                        'learning_rate': [0.01, 0.02, 0.05,\n",
              "                                                          0.07, 0.1, 0.2, 0.3],\n",
              "                                        'max_depth': [100, 200, 300, 400, 500,\n",
              "                                                      600, 700, 800, 900,\n",
              "                                                      1000],\n",
              "                                        'n_estimators': [100, 200, 300, 400,\n",
              "                                                         500, 600, 700, 800,\n",
              "                                                         900, 1000]},\n",
              "                   verbose=2)"
            ]
          },
          "metadata": {
            "tags": []
          },
          "execution_count": 252
        }
      ]
    },
    {
      "cell_type": "code",
      "metadata": {
        "colab": {
          "base_uri": "https://localhost:8080/"
        },
        "id": "tFYU0uk6X6WQ",
        "outputId": "81b78521-e731-41ef-cb1a-b065df2beb9f"
      },
      "source": [
        "lgbm_grid.best_params_\n"
      ],
      "execution_count": 253,
      "outputs": [
        {
          "output_type": "execute_result",
          "data": {
            "text/plain": [
              "{'boosting_type': 'gbdt',\n",
              " 'learning_rate': 0.05,\n",
              " 'max_depth': 500,\n",
              " 'n_estimators': 800}"
            ]
          },
          "metadata": {
            "tags": []
          },
          "execution_count": 253
        }
      ]
    },
    {
      "cell_type": "code",
      "metadata": {
        "colab": {
          "base_uri": "https://localhost:8080/",
          "height": 447
        },
        "id": "kKatNKgicMQY",
        "outputId": "17ea1df7-8096-4588-864c-3c116bc35aec"
      },
      "source": [
        "predict(lgbm_grid.best_estimator_,1)"
      ],
      "execution_count": 259,
      "outputs": [
        {
          "output_type": "stream",
          "text": [
            "Training score : 0.922218016798028\n",
            "predictions are: \n",
            " [17054.4933164   6665.1535652   8637.93528705 ...  6613.61607097\n",
            " 12432.16019815 12640.40504953]\n",
            "\n",
            "\n",
            "r2 score: 0.8303372403777818\n",
            "MAE: 1170.6524180695608\n",
            "MSE: 3658277.9790869905\n",
            "RMSE: 1912.6625366454455\n"
          ],
          "name": "stdout"
        },
        {
          "output_type": "display_data",
          "data": {
            "image/png": "[encoded data removed]",
            "text/plain": [
              "<Figure size 432x288 with 1 Axes>"
            ]
          },
          "metadata": {
            "tags": [],
            "needs_background": "light"
          }
        }
      ]
    },
    {
      "cell_type": "code",
      "metadata": {
        "id": "QQ8cplR1cMMI"
      },
      "source": [
        ""
      ],
      "execution_count": 244,
      "outputs": []
    },
    {
      "cell_type": "code",
      "metadata": {
        "id": "1-oUWVJDcMJO"
      },
      "source": [
        "import pickle"
      ],
      "execution_count": 257,
      "outputs": []
    },
    {
      "cell_type": "code",
      "metadata": {
        "id": "hRjMEM6lcMGQ"
      },
      "source": [
        "file=open('/content/drive/MyDrive/Machine Learning Projects/4. Flight Fare Prediction/model.pkl','rb')\n",
        "lgbm =pickle.load(file)"
      ],
      "execution_count": 260,
      "outputs": []
    },
    {
      "cell_type": "code",
      "metadata": {
        "colab": {
          "base_uri": "https://localhost:8080/"
        },
        "id": "igriS9f3cMDR",
        "outputId": "c4b2105f-ee98-46d4-9a6b-f583f5c095a3"
      },
      "source": [
        "y_prediction=lgbm.predict(X_test)\n",
        "y_prediction"
      ],
      "execution_count": 261,
      "outputs": [
        {
          "output_type": "execute_result",
          "data": {
            "text/plain": [
              "array([17054.4933164 ,  6665.1535652 ,  8637.93528705, ...,\n",
              "        6613.61607097, 12432.16019815, 12640.40504953])"
            ]
          },
          "metadata": {
            "tags": []
          },
          "execution_count": 261
        }
      ]
    },
    {
      "cell_type": "code",
      "metadata": {
        "colab": {
          "base_uri": "https://localhost:8080/"
        },
        "id": "U5GFU5dlcMAg",
        "outputId": "de353766-3a53-449d-fc76-f292c94b21f0"
      },
      "source": [
        "metrics.r2_score(Y_test,y_prediction)"
      ],
      "execution_count": 262,
      "outputs": [
        {
          "output_type": "execute_result",
          "data": {
            "text/plain": [
              "0.8303372403777818"
            ]
          },
          "metadata": {
            "tags": []
          },
          "execution_count": 262
        }
      ]
    },
    {
      "cell_type": "code",
      "metadata": {
        "id": "-BePKtcbClCc"
      },
      "source": [
        "df4.to_csv('Flight Fare Prediction Model csv.csv')"
      ],
      "execution_count": 263,
      "outputs": []
    },
    {
      "cell_type": "code",
      "metadata": {
        "id": "0v_6Qpb7ecK2"
      },
      "source": [
        ""
      ],
      "execution_count": null,
      "outputs": []
    }
  ]
}